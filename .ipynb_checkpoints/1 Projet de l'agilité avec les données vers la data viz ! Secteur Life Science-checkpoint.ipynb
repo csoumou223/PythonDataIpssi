{
 "cells": [
  {
   "cell_type": "markdown",
   "metadata": {},
   "source": [
    "# Projet : Manipulation des données avec Pandas"
   ]
  },
  {
   "cell_type": "code",
   "execution_count": null,
   "metadata": {},
   "outputs": [],
   "source": []
  },
  {
   "cell_type": "markdown",
   "metadata": {},
   "source": [
    "Pandas est une librairie Python spécialisée dans l’analyse des données qui a beaucoup de succès. Dans ce projet pratique, nous nous intéresserons surtout aux fonctionnalités de manipulations de données qu’elle propose. Un objet de type \"DataFrame\" (tableau de données), permet de réaliser de nombreuses opérations de pré-traitements, de filtrage, de nettoyage, de construction de nouvelles variables à partir des existentes, etc.,... préalables à la modélisation statistique.\n",
    "\n",
    "La librairie est très largement documentée. Il faut prendre le temps de consulter le Help et de s'exercer simplement ! Deux liens du Help sont incontournables, celui relative aux DataFrame (http://pandas.pydata.org/pandas-docs/stable/generated/pandas.DataFrame.html#pandas.DataFrame), celui relative aux Series que nous travaillerons également dessus (vecteur de données : http://pandas.pydata.org/pandas-docs/stable/generated/pandas.Series.html#pandas.Series)."
   ]
  },
  {
   "cell_type": "markdown",
   "metadata": {},
   "source": [
    "# Librairie Pandas - Options et version\n",
    "\n",
    "Il faut charger la librairie et, éventuellement, la configurer selon vos attentes. Pensez à vérifier votre version, elle doit être (non seulement la même sur tous les postes mais aussi la plus récente)."
   ]
  },
  {
   "cell_type": "code",
   "execution_count": 46,
   "metadata": {},
   "outputs": [
    {
     "name": "stdout",
     "output_type": "stream",
     "text": [
      "   age      sexe typedouleur sucre  tauxmax angine  depression coeur col9  \\\n",
      "0   70  masculin           D     A      109    non          24   presence   \n",
      "1   67   feminin           C     A      160    non          16    absence   \n",
      "2   57  masculin           B     A      141    non           3   presence   \n",
      "3   64  masculin           D     A      105    oui           2    absence   \n",
      "4   74   feminin           B     A      121    oui           2    absence   \n",
      "5   65  masculin           D     A      140    non           4    absence   \n",
      "6   56  masculin           C     B      142    oui           6   presence   \n",
      "7   59  masculin           D     A      142    oui          12   presence   \n",
      "8   60  masculin           D     A      170    non          12   presence   \n",
      "9   63   feminin           D     A      154    non          40   presence   \n",
      "\n",
      "   col10  col11  col13  \n",
      "0    NaN    NaN    NaN  \n",
      "1    NaN    NaN    NaN  \n",
      "2    NaN    NaN    NaN  \n",
      "3    NaN    NaN    NaN  \n",
      "4    NaN    NaN    NaN  \n",
      "5    NaN    NaN    NaN  \n",
      "6    NaN    NaN    NaN  \n",
      "7    NaN    NaN    NaN  \n",
      "8    NaN    NaN    NaN  \n",
      "9    NaN    NaN    NaN  \n"
     ]
    }
   ],
   "source": [
    "# 1è étape : il faut charger Pandas\n",
    "import pandas as pd\n",
    "\n",
    "# Vérifiez sa version ? \n",
    "pd.__version__\n",
    "\n",
    "# Quelle est la dernière version et MAJ la votre en ligne de commande (au cas où Pandas n'est pas la + récente) ? \n",
    "#pip install --upgrade pandas\n",
    "\n",
    "# Rappelez les commandes qui permettent d'installer, MAJ, utiliser 1version moins récente et désinstaller 1lib ?   \n",
    "# R installer ===>  pip install mylib\n",
    "# MAJ ===> pip install --upgrade mylib\n",
    "# utiliser ===> import mylib\n",
    "# désinstaller ===> pip uninstall mylib \n",
    "\n",
    "# Modifiez le nb de lignes à afficher dans les print à 10. L'idée est d'éviter que le projet se résume \n",
    "# à de multiples affichages de longs tableaux ! \n",
    "# R :\n",
    "import pandas as pd\n",
    "\n",
    "\n",
    "df = pd.read_table('sante.txt')\n",
    "print (df[0:10])\n",
    "# ou print (df.head(10))\n"
   ]
  },
  {
   "cell_type": "code",
   "execution_count": 74,
   "metadata": {},
   "outputs": [
    {
     "name": "stdout",
     "output_type": "stream",
     "text": [
      "     age      sexe typedouleur sucre  tauxmax angine  depression coeur col9  \\\n",
      "0     70  masculin           D     A      109    non          24   presence   \n",
      "1     67   feminin           C     A      160    non          16    absence   \n",
      "2     57  masculin           B     A      141    non           3   presence   \n",
      "3     64  masculin           D     A      105    oui           2    absence   \n",
      "4     74   feminin           B     A      121    oui           2    absence   \n",
      "..   ...       ...         ...   ...      ...    ...         ...        ...   \n",
      "265   52  masculin           C     B      162    non           5    absence   \n",
      "266   44  masculin           B     A      173    non           0    absence   \n",
      "267   56   feminin           B     A      153    non          13    absence   \n",
      "268   57  masculin           D     A      148    non           4    absence   \n",
      "269   67  masculin           D     A      108    oui          15   presence   \n",
      "\n",
      "     col10  col11  \n",
      "0      NaN    NaN  \n",
      "1      NaN    NaN  \n",
      "2      NaN    NaN  \n",
      "3      NaN    NaN  \n",
      "4      NaN    NaN  \n",
      "..     ...    ...  \n",
      "265    NaN    NaN  \n",
      "266    NaN    NaN  \n",
      "267    NaN    NaN  \n",
      "268    NaN    NaN  \n",
      "269    NaN    NaN  \n",
      "\n",
      "[270 rows x 10 columns]\n"
     ]
    },
    {
     "data": {
      "text/html": [
       "<div>\n",
       "<style scoped>\n",
       "    .dataframe tbody tr th:only-of-type {\n",
       "        vertical-align: middle;\n",
       "    }\n",
       "\n",
       "    .dataframe tbody tr th {\n",
       "        vertical-align: top;\n",
       "    }\n",
       "\n",
       "    .dataframe thead th {\n",
       "        text-align: right;\n",
       "    }\n",
       "</style>\n",
       "<table border=\"1\" class=\"dataframe\">\n",
       "  <thead>\n",
       "    <tr style=\"text-align: right;\">\n",
       "      <th></th>\n",
       "      <th>age</th>\n",
       "      <th>sexe</th>\n",
       "      <th>typedouleur</th>\n",
       "      <th>sucre</th>\n",
       "      <th>tauxmax</th>\n",
       "      <th>angine</th>\n",
       "      <th>depression</th>\n",
       "      <th>coeur col9</th>\n",
       "      <th>col10</th>\n",
       "      <th>col11</th>\n",
       "    </tr>\n",
       "  </thead>\n",
       "  <tbody>\n",
       "    <tr>\n",
       "      <th>0</th>\n",
       "      <td>70</td>\n",
       "      <td>masculin</td>\n",
       "      <td>D</td>\n",
       "      <td>A</td>\n",
       "      <td>109</td>\n",
       "      <td>non</td>\n",
       "      <td>24</td>\n",
       "      <td>presence</td>\n",
       "      <td>NaN</td>\n",
       "      <td>NaN</td>\n",
       "    </tr>\n",
       "    <tr>\n",
       "      <th>1</th>\n",
       "      <td>67</td>\n",
       "      <td>feminin</td>\n",
       "      <td>C</td>\n",
       "      <td>A</td>\n",
       "      <td>160</td>\n",
       "      <td>non</td>\n",
       "      <td>16</td>\n",
       "      <td>absence</td>\n",
       "      <td>NaN</td>\n",
       "      <td>NaN</td>\n",
       "    </tr>\n",
       "    <tr>\n",
       "      <th>2</th>\n",
       "      <td>57</td>\n",
       "      <td>masculin</td>\n",
       "      <td>B</td>\n",
       "      <td>A</td>\n",
       "      <td>141</td>\n",
       "      <td>non</td>\n",
       "      <td>3</td>\n",
       "      <td>presence</td>\n",
       "      <td>NaN</td>\n",
       "      <td>NaN</td>\n",
       "    </tr>\n",
       "    <tr>\n",
       "      <th>3</th>\n",
       "      <td>64</td>\n",
       "      <td>masculin</td>\n",
       "      <td>D</td>\n",
       "      <td>A</td>\n",
       "      <td>105</td>\n",
       "      <td>oui</td>\n",
       "      <td>2</td>\n",
       "      <td>absence</td>\n",
       "      <td>NaN</td>\n",
       "      <td>NaN</td>\n",
       "    </tr>\n",
       "    <tr>\n",
       "      <th>4</th>\n",
       "      <td>74</td>\n",
       "      <td>feminin</td>\n",
       "      <td>B</td>\n",
       "      <td>A</td>\n",
       "      <td>121</td>\n",
       "      <td>oui</td>\n",
       "      <td>2</td>\n",
       "      <td>absence</td>\n",
       "      <td>NaN</td>\n",
       "      <td>NaN</td>\n",
       "    </tr>\n",
       "    <tr>\n",
       "      <th>...</th>\n",
       "      <td>...</td>\n",
       "      <td>...</td>\n",
       "      <td>...</td>\n",
       "      <td>...</td>\n",
       "      <td>...</td>\n",
       "      <td>...</td>\n",
       "      <td>...</td>\n",
       "      <td>...</td>\n",
       "      <td>...</td>\n",
       "      <td>...</td>\n",
       "    </tr>\n",
       "    <tr>\n",
       "      <th>265</th>\n",
       "      <td>52</td>\n",
       "      <td>masculin</td>\n",
       "      <td>C</td>\n",
       "      <td>B</td>\n",
       "      <td>162</td>\n",
       "      <td>non</td>\n",
       "      <td>5</td>\n",
       "      <td>absence</td>\n",
       "      <td>NaN</td>\n",
       "      <td>NaN</td>\n",
       "    </tr>\n",
       "    <tr>\n",
       "      <th>266</th>\n",
       "      <td>44</td>\n",
       "      <td>masculin</td>\n",
       "      <td>B</td>\n",
       "      <td>A</td>\n",
       "      <td>173</td>\n",
       "      <td>non</td>\n",
       "      <td>0</td>\n",
       "      <td>absence</td>\n",
       "      <td>NaN</td>\n",
       "      <td>NaN</td>\n",
       "    </tr>\n",
       "    <tr>\n",
       "      <th>267</th>\n",
       "      <td>56</td>\n",
       "      <td>feminin</td>\n",
       "      <td>B</td>\n",
       "      <td>A</td>\n",
       "      <td>153</td>\n",
       "      <td>non</td>\n",
       "      <td>13</td>\n",
       "      <td>absence</td>\n",
       "      <td>NaN</td>\n",
       "      <td>NaN</td>\n",
       "    </tr>\n",
       "    <tr>\n",
       "      <th>268</th>\n",
       "      <td>57</td>\n",
       "      <td>masculin</td>\n",
       "      <td>D</td>\n",
       "      <td>A</td>\n",
       "      <td>148</td>\n",
       "      <td>non</td>\n",
       "      <td>4</td>\n",
       "      <td>absence</td>\n",
       "      <td>NaN</td>\n",
       "      <td>NaN</td>\n",
       "    </tr>\n",
       "    <tr>\n",
       "      <th>269</th>\n",
       "      <td>67</td>\n",
       "      <td>masculin</td>\n",
       "      <td>D</td>\n",
       "      <td>A</td>\n",
       "      <td>108</td>\n",
       "      <td>oui</td>\n",
       "      <td>15</td>\n",
       "      <td>presence</td>\n",
       "      <td>NaN</td>\n",
       "      <td>NaN</td>\n",
       "    </tr>\n",
       "  </tbody>\n",
       "</table>\n",
       "<p>270 rows × 10 columns</p>\n",
       "</div>"
      ],
      "text/plain": [
       "     age      sexe typedouleur sucre  tauxmax angine  depression coeur col9  \\\n",
       "0     70  masculin           D     A      109    non          24   presence   \n",
       "1     67   feminin           C     A      160    non          16    absence   \n",
       "2     57  masculin           B     A      141    non           3   presence   \n",
       "3     64  masculin           D     A      105    oui           2    absence   \n",
       "4     74   feminin           B     A      121    oui           2    absence   \n",
       "..   ...       ...         ...   ...      ...    ...         ...        ...   \n",
       "265   52  masculin           C     B      162    non           5    absence   \n",
       "266   44  masculin           B     A      173    non           0    absence   \n",
       "267   56   feminin           B     A      153    non          13    absence   \n",
       "268   57  masculin           D     A      148    non           4    absence   \n",
       "269   67  masculin           D     A      108    oui          15   presence   \n",
       "\n",
       "     col10  col11  \n",
       "0      NaN    NaN  \n",
       "1      NaN    NaN  \n",
       "2      NaN    NaN  \n",
       "3      NaN    NaN  \n",
       "4      NaN    NaN  \n",
       "..     ...    ...  \n",
       "265    NaN    NaN  \n",
       "266    NaN    NaN  \n",
       "267    NaN    NaN  \n",
       "268    NaN    NaN  \n",
       "269    NaN    NaN  \n",
       "\n",
       "[270 rows x 10 columns]"
      ]
     },
     "execution_count": 74,
     "metadata": {},
     "output_type": "execute_result"
    }
   ],
   "source": [
    "# Modifiez le nb de colonnes à afficher dans les print à 10. L'idée est d'éviter que la console soit rapidement encombrée \n",
    "# par un grand nombre de col ! \n",
    "# R :\n",
    "\n",
    "matable = pd.read_table('sante.txt')\n",
    "#matable.iloc[:, :10]\n",
    "print(matable[matable.columns[0:10]]) \n",
    "\n",
    "\n",
    "# Malgré le fait que ns avons fixé 1petit nb de col à afficher (à 10), les résultats peuvent être tronqués ds la console !\n",
    "# En d'autres termes, l'idée est d'améliorer l'affichage ds la console en évitant un retour à la ligne (Spyder, Pyzo, nootebook,..).\n",
    "# Activez l'option nécessaire à ce besoin ? \n",
    "# R :\n",
    "matable = pd.read_table('sante.txt')\n",
    "matable.iloc[:, :10]"
   ]
  },
  {
   "cell_type": "code",
   "execution_count": 42,
   "metadata": {},
   "outputs": [
    {
     "data": {
      "text/html": [
       "<div>\n",
       "<style scoped>\n",
       "    .dataframe tbody tr th:only-of-type {\n",
       "        vertical-align: middle;\n",
       "    }\n",
       "\n",
       "    .dataframe tbody tr th {\n",
       "        vertical-align: top;\n",
       "    }\n",
       "\n",
       "    .dataframe thead th {\n",
       "        text-align: right;\n",
       "    }\n",
       "</style>\n",
       "<table border=\"1\" class=\"dataframe\">\n",
       "  <thead>\n",
       "    <tr style=\"text-align: right;\">\n",
       "      <th></th>\n",
       "      <th>age</th>\n",
       "      <th>sexe</th>\n",
       "      <th>typedouleur</th>\n",
       "      <th>sucre</th>\n",
       "      <th>tauxmax</th>\n",
       "      <th>angine</th>\n",
       "      <th>depression</th>\n",
       "      <th>coeur col9</th>\n",
       "      <th>col10</th>\n",
       "      <th>col11</th>\n",
       "      <th>col13</th>\n",
       "    </tr>\n",
       "  </thead>\n",
       "  <tbody>\n",
       "    <tr>\n",
       "      <th>0</th>\n",
       "      <td>70</td>\n",
       "      <td>masculin</td>\n",
       "      <td>D</td>\n",
       "      <td>A</td>\n",
       "      <td>109</td>\n",
       "      <td>non</td>\n",
       "      <td>24</td>\n",
       "      <td>presence</td>\n",
       "      <td>NaN</td>\n",
       "      <td>NaN</td>\n",
       "      <td>NaN</td>\n",
       "    </tr>\n",
       "    <tr>\n",
       "      <th>1</th>\n",
       "      <td>67</td>\n",
       "      <td>feminin</td>\n",
       "      <td>C</td>\n",
       "      <td>A</td>\n",
       "      <td>160</td>\n",
       "      <td>non</td>\n",
       "      <td>16</td>\n",
       "      <td>absence</td>\n",
       "      <td>NaN</td>\n",
       "      <td>NaN</td>\n",
       "      <td>NaN</td>\n",
       "    </tr>\n",
       "    <tr>\n",
       "      <th>2</th>\n",
       "      <td>57</td>\n",
       "      <td>masculin</td>\n",
       "      <td>B</td>\n",
       "      <td>A</td>\n",
       "      <td>141</td>\n",
       "      <td>non</td>\n",
       "      <td>3</td>\n",
       "      <td>presence</td>\n",
       "      <td>NaN</td>\n",
       "      <td>NaN</td>\n",
       "      <td>NaN</td>\n",
       "    </tr>\n",
       "    <tr>\n",
       "      <th>3</th>\n",
       "      <td>64</td>\n",
       "      <td>masculin</td>\n",
       "      <td>D</td>\n",
       "      <td>A</td>\n",
       "      <td>105</td>\n",
       "      <td>oui</td>\n",
       "      <td>2</td>\n",
       "      <td>absence</td>\n",
       "      <td>NaN</td>\n",
       "      <td>NaN</td>\n",
       "      <td>NaN</td>\n",
       "    </tr>\n",
       "    <tr>\n",
       "      <th>4</th>\n",
       "      <td>74</td>\n",
       "      <td>feminin</td>\n",
       "      <td>B</td>\n",
       "      <td>A</td>\n",
       "      <td>121</td>\n",
       "      <td>oui</td>\n",
       "      <td>2</td>\n",
       "      <td>absence</td>\n",
       "      <td>NaN</td>\n",
       "      <td>NaN</td>\n",
       "      <td>NaN</td>\n",
       "    </tr>\n",
       "    <tr>\n",
       "      <th>...</th>\n",
       "      <td>...</td>\n",
       "      <td>...</td>\n",
       "      <td>...</td>\n",
       "      <td>...</td>\n",
       "      <td>...</td>\n",
       "      <td>...</td>\n",
       "      <td>...</td>\n",
       "      <td>...</td>\n",
       "      <td>...</td>\n",
       "      <td>...</td>\n",
       "      <td>...</td>\n",
       "    </tr>\n",
       "    <tr>\n",
       "      <th>265</th>\n",
       "      <td>52</td>\n",
       "      <td>masculin</td>\n",
       "      <td>C</td>\n",
       "      <td>B</td>\n",
       "      <td>162</td>\n",
       "      <td>non</td>\n",
       "      <td>5</td>\n",
       "      <td>absence</td>\n",
       "      <td>NaN</td>\n",
       "      <td>NaN</td>\n",
       "      <td>NaN</td>\n",
       "    </tr>\n",
       "    <tr>\n",
       "      <th>266</th>\n",
       "      <td>44</td>\n",
       "      <td>masculin</td>\n",
       "      <td>B</td>\n",
       "      <td>A</td>\n",
       "      <td>173</td>\n",
       "      <td>non</td>\n",
       "      <td>0</td>\n",
       "      <td>absence</td>\n",
       "      <td>NaN</td>\n",
       "      <td>NaN</td>\n",
       "      <td>NaN</td>\n",
       "    </tr>\n",
       "    <tr>\n",
       "      <th>267</th>\n",
       "      <td>56</td>\n",
       "      <td>feminin</td>\n",
       "      <td>B</td>\n",
       "      <td>A</td>\n",
       "      <td>153</td>\n",
       "      <td>non</td>\n",
       "      <td>13</td>\n",
       "      <td>absence</td>\n",
       "      <td>NaN</td>\n",
       "      <td>NaN</td>\n",
       "      <td>NaN</td>\n",
       "    </tr>\n",
       "    <tr>\n",
       "      <th>268</th>\n",
       "      <td>57</td>\n",
       "      <td>masculin</td>\n",
       "      <td>D</td>\n",
       "      <td>A</td>\n",
       "      <td>148</td>\n",
       "      <td>non</td>\n",
       "      <td>4</td>\n",
       "      <td>absence</td>\n",
       "      <td>NaN</td>\n",
       "      <td>NaN</td>\n",
       "      <td>NaN</td>\n",
       "    </tr>\n",
       "    <tr>\n",
       "      <th>269</th>\n",
       "      <td>67</td>\n",
       "      <td>masculin</td>\n",
       "      <td>D</td>\n",
       "      <td>A</td>\n",
       "      <td>108</td>\n",
       "      <td>oui</td>\n",
       "      <td>15</td>\n",
       "      <td>presence</td>\n",
       "      <td>NaN</td>\n",
       "      <td>NaN</td>\n",
       "      <td>NaN</td>\n",
       "    </tr>\n",
       "  </tbody>\n",
       "</table>\n",
       "<p>270 rows × 11 columns</p>\n",
       "</div>"
      ],
      "text/plain": [
       "     age      sexe typedouleur sucre  tauxmax angine  depression coeur col9  \\\n",
       "0     70  masculin           D     A      109    non          24   presence   \n",
       "1     67   feminin           C     A      160    non          16    absence   \n",
       "2     57  masculin           B     A      141    non           3   presence   \n",
       "3     64  masculin           D     A      105    oui           2    absence   \n",
       "4     74   feminin           B     A      121    oui           2    absence   \n",
       "..   ...       ...         ...   ...      ...    ...         ...        ...   \n",
       "265   52  masculin           C     B      162    non           5    absence   \n",
       "266   44  masculin           B     A      173    non           0    absence   \n",
       "267   56   feminin           B     A      153    non          13    absence   \n",
       "268   57  masculin           D     A      148    non           4    absence   \n",
       "269   67  masculin           D     A      108    oui          15   presence   \n",
       "\n",
       "     col10  col11  col13  \n",
       "0      NaN    NaN    NaN  \n",
       "1      NaN    NaN    NaN  \n",
       "2      NaN    NaN    NaN  \n",
       "3      NaN    NaN    NaN  \n",
       "4      NaN    NaN    NaN  \n",
       "..     ...    ...    ...  \n",
       "265    NaN    NaN    NaN  \n",
       "266    NaN    NaN    NaN  \n",
       "267    NaN    NaN    NaN  \n",
       "268    NaN    NaN    NaN  \n",
       "269    NaN    NaN    NaN  \n",
       "\n",
       "[270 rows x 11 columns]"
      ]
     },
     "execution_count": 42,
     "metadata": {},
     "output_type": "execute_result"
    }
   ],
   "source": [
    "pd.read_table('sante.txt')  "
   ]
  },
  {
   "cell_type": "raw",
   "metadata": {},
   "source": [
    "Après avoir réussi ces dernieres manip, créez 1script (startup.py) avec ces diff commandes et indiquez son path à comme PYTHON_STARTUP.\n",
    "L'idée est qu'à chaque lancement de Python, vos différents imports et options soient activées automatiquement !"
   ]
  },
  {
   "cell_type": "markdown",
   "metadata": {
    "collapsed": true
   },
   "source": [
    "# Chargement, structure DataFrame et description des données"
   ]
  },
  {
   "cell_type": "raw",
   "metadata": {},
   "source": [
    "1DataFrame correspond à 1tableau (lignes x cols) que je noterai à partir de maintenant \"df\".\n",
    "Concernant notre fichier \"sante.txt\" :\n",
    "La 1è ligne correspond aux noms des vars. A partir de la 2è ligne, ns disposons des valeurs pr chaque enregistrement (individu). \n",
    "Le caractère tabulation \"\\t\" fait office de séparateur de cols.\n",
    "Ns allons vérifier tt ça ds 1 1er tps en lignes de commandes Linux et ds un 2sd temps sur Python."
   ]
  },
  {
   "cell_type": "raw",
   "metadata": {},
   "source": [
    "En ligne de commande Linux : \n",
    "\n",
    "1) Créez 1répertoire \"data\" (où vs stockerez d'1façon permanente ts les objets que ns travaillerons dessus).\n",
    "2) Télécharez à partir du google-drive-datartisan le fichier \"sante.txt\" (secteur de la sante).\n",
    "# R : \n",
    "\n",
    "Dans le terminal linux (et non ds 1éditeur de texte), déterminez : \n",
    "3) la taille du fichier, le nombre de lignes et affichez les 5 1è (lignes). \n",
    "# L'idée est d'avoir un aperçu du fichier ET surtout de déterminer : \n",
    "# Le fait s'il tiens en mémoire (données massives ou non),\n",
    "# Le type de séparateur (tabulation, virgule, pipe,...),\n",
    "# La présence ou non des noms des vars. \n",
    "# Le tout pour préparer la commande Python de création de df (à partir de ce fichier) ! \n",
    "# R : "
   ]
  },
  {
   "cell_type": "code",
   "execution_count": null,
   "metadata": {},
   "outputs": [],
   "source": [
    "# Refaites ces diff manip strictement à l'aide de commandes Python : création de rép \"data\", téléchargement du fichier,... ?\n",
    "# R : indice import os, open()\n",
    "\n",
    "# Revenez sur le script \"startup.py\" et y mettre les commandes qui vs permettent de : \n",
    "# Créer le rép \"data\" (s'il n'existe pas) ?\n",
    "# Se positinner dessus automatiquement (à chaque démarrage).\n",
    "# R :"
   ]
  },
  {
   "cell_type": "code",
   "execution_count": 32,
   "metadata": {},
   "outputs": [],
   "source": [
    "# Chargez le fichier en tant qu'objet DataFrame (nom = df_sante) \n",
    "# R : \n",
    "\n",
    "# Vérifiez que le type obtenu est bien un 'pandas.core.frame.DataFrame'\n",
    "# R : "
   ]
  },
  {
   "cell_type": "raw",
   "metadata": {},
   "source": [
    "Le type DataFrame est bien reconnu. Voyons maintenant sa structure.\n",
    "Faire un print(df) où vs vérifiez à l'oeil nu, dans la console, ligne par ligne la structure du df n'a pas de sens (contexte Big Data) !\n",
    "Croyez moi, ça ne va pas vs faire avancer (inversement, au bon entendeur !). \n",
    "Ns préferons alors déterminer la dimension du df, afficher un bout des 1ères et dernières lignes (et comparer avec les résultats déjà obtenu avec le fichier \".txt\").  "
   ]
  },
  {
   "cell_type": "code",
   "execution_count": 1,
   "metadata": {},
   "outputs": [],
   "source": [
    "# Déterminez les dimensions : nb de lignes et nb de colonnes ? \n",
    "# R : \n",
    "# Vérifier que ce sont les bonnes dimensions avec le fichier \".txt\"\n",
    "# Rq : la ligne d'en-tête n'est pas comptabilisée dans le nombre de lignes ! "
   ]
  },
  {
   "cell_type": "code",
   "execution_count": 2,
   "metadata": {},
   "outputs": [],
   "source": [
    "# Affichez les premières lignes du jeu de données ? \n",
    "# R : "
   ]
  },
  {
   "cell_type": "code",
   "execution_count": null,
   "metadata": {},
   "outputs": [],
   "source": [
    "# Affichez les dernières lignes du jeu de données ? \n",
    "# R : "
   ]
  },
  {
   "cell_type": "raw",
   "metadata": {},
   "source": [
    "Nous passons beaucoup de notre temps à charger des df et à afficher le head (tail) pour vérifier que tt est OK ! \n",
    "Il vaut mieux en faire de ça 1fonc 1fois pr tte que vs appelez au besoin ? "
   ]
  },
  {
   "cell_type": "code",
   "execution_count": null,
   "metadata": {},
   "outputs": [],
   "source": [
    "# Ecrivez cette fonc où vs géréz les exceptions (contexte script en production) ? \n",
    "# R : "
   ]
  },
  {
   "cell_type": "markdown",
   "metadata": {},
   "source": [
    "### Les colonnes ?"
   ]
  },
  {
   "cell_type": "code",
   "execution_count": 3,
   "metadata": {
    "scrolled": true
   },
   "outputs": [],
   "source": [
    "# Lister les colonnes (les noms des vars) ? \n",
    "# R : "
   ]
  },
  {
   "cell_type": "code",
   "execution_count": 4,
   "metadata": {},
   "outputs": [],
   "source": [
    "# Supposons que ce dernier affichage ne vous conviens pas (à l'horizontal, surtout si vs avez 5000 cols) ?! \n",
    "# Mettez en place 1boucle \"for\" qui vous permez d'afficher le résultat (à la verticale) et de le contrôler (nb de col à afficher) ?\n",
    "# R : "
   ]
  },
  {
   "cell_type": "code",
   "execution_count": 5,
   "metadata": {},
   "outputs": [],
   "source": [
    "# Quelle est le type de chaque colonne : int64, object,... ? \n",
    "# R : "
   ]
  },
  {
   "cell_type": "raw",
   "metadata": {},
   "source": [
    "Il y'a combien type ? Que veut dire le type \"object\" ? \n",
    "Question à revenir dessus plus tard (après avoir travaillé sur les Series), combien de type (en ligne de commande) ?   \n",
    "# R : "
   ]
  },
  {
   "cell_type": "code",
   "execution_count": 6,
   "metadata": {},
   "outputs": [],
   "source": [
    "# Au lieu de taper ces 2 dernières commandes, \n",
    "# il existe une commande qui vous permet de retrouver ces 2 derniers résultats (à la fois) ?\n",
    "# Laquelle ?\n",
    "# R : \n"
   ]
  },
  {
   "cell_type": "raw",
   "metadata": {},
   "source": [
    "Pandas a tendance d'abuser de la mémoire lors de chargement des df.\n",
    "Aussi, il est vivement recommandé de bien affecter les bons types à chaque variable ne serait-ce que pour éviter de faire des opérations douteuses, par exemple arithmétiques sur des vars de type \"object\".\n",
    "Ds notre cas, vérifiez que notre fichier ne comporte pas de nombres avec des chiffres après la virgule ?\n",
    "Malgré cela, Pandas a stocké les cols concernées en int64 au lieu de int8 (gaspillage) !"
   ]
  },
  {
   "cell_type": "code",
   "execution_count": null,
   "metadata": {},
   "outputs": [],
   "source": [
    "# Par souci d'optimisation, mettez les cols qui sont en int64 en int8 ?\n",
    "# R : "
   ]
  },
  {
   "cell_type": "code",
   "execution_count": null,
   "metadata": {},
   "outputs": [],
   "source": [
    "Q à traiter plus tard : Comment faire la même manip (sans relire le fichier) ? "
   ]
  },
  {
   "cell_type": "raw",
   "metadata": {},
   "source": [
    "Supposons que ns avons à travailler sur un fichier avec des nombres avec des chiffres après la virgule (ou point pr spécifier un décimal (US Vs. EU)\n",
    "Trouvez l'option ds pd.read_table() qui permet de le spécifier ? \n",
    "# R : "
   ]
  },
  {
   "cell_type": "markdown",
   "metadata": {},
   "source": [
    "### Description des données"
   ]
  },
  {
   "cell_type": "code",
   "execution_count": 8,
   "metadata": {},
   "outputs": [],
   "source": [
    "# Trouvez une commande pr présenter les statistiques descriptives de tt le df (min, max, moy,...) ?  \n",
    "# R : "
   ]
  },
  {
   "cell_type": "raw",
   "metadata": {},
   "source": [
    "Explication : \n",
    "Certains indicateurs statistiques ne sont valables que pour : \n",
    "# les variables numériques (ex. moyenne, min, etc. pour age, tauxmax,...),\n",
    "# et inversemment pour les non-numériques (ex. top, freq, etc. pour sexe, typedouleur, ...),\n",
    "# d'où les NaN dans certaines situations.\n",
    "Est-ce que ce résultat vs convient ?! \n",
    "# Pr plus de clarté, ns souhaitons afficher les stats pr les vars num dans un 1er tps (1è commande ?)\n",
    "# Et ds un 2sd tps les vars de type objects (2è commande ?)\n",
    "# Comment faire ? "
   ]
  },
  {
   "cell_type": "code",
   "execution_count": 33,
   "metadata": {},
   "outputs": [],
   "source": [
    "# Stats desc pr les vars num ? \n",
    "# R : "
   ]
  },
  {
   "cell_type": "code",
   "execution_count": null,
   "metadata": {},
   "outputs": [],
   "source": [
    "# Stats desc pr les vars non-num ? \n",
    "# R : "
   ]
  },
  {
   "cell_type": "markdown",
   "metadata": {},
   "source": [
    "## Manipulation des variables"
   ]
  },
  {
   "cell_type": "markdown",
   "metadata": {},
   "source": [
    "### Accès aux variables\n",
    "\n",
    "Il est possible d'accéder explicitement aux variables. Dans un premier temps, nous utilisons directement les noms des champs (les noms des variables, en en-tête de colonne)."
   ]
  },
  {
   "cell_type": "code",
   "execution_count": 9,
   "metadata": {},
   "outputs": [],
   "source": [
    "# Accès à une colonne de votre choix ? \n",
    "# R : "
   ]
  },
  {
   "cell_type": "code",
   "execution_count": 10,
   "metadata": {},
   "outputs": [],
   "source": [
    "# Autre manière d'accéder à une colonne avec le \".  ? \n",
    "# R : "
   ]
  },
  {
   "cell_type": "code",
   "execution_count": 12,
   "metadata": {},
   "outputs": [],
   "source": [
    "# Accéder à un ensemble de colonnes ? \n",
    "# R : "
   ]
  },
  {
   "cell_type": "code",
   "execution_count": 13,
   "metadata": {},
   "outputs": [],
   "source": [
    "# Une colonne est un vecteur (Series en terminologie Pandas)\n",
    "# Affichage des premières valeurs\n",
    "# R : "
   ]
  },
  {
   "cell_type": "code",
   "execution_count": 14,
   "metadata": {},
   "outputs": [],
   "source": [
    "# Affichage des dernières valeurs\n",
    "# R : "
   ]
  },
  {
   "cell_type": "code",
   "execution_count": 15,
   "metadata": {},
   "outputs": [],
   "source": [
    "# Statistique descriptive d'une col. Pour plus de détails, voir :\n",
    "# http://pandas.pydata.org/pandas-docs/stable/basics.html#summarizing-data-describe\n",
    "# R : "
   ]
  },
  {
   "cell_type": "code",
   "execution_count": 17,
   "metadata": {},
   "outputs": [],
   "source": [
    "# Calculer explicitement la moyenne, par ex col \"age\"\n",
    "# R : "
   ]
  },
  {
   "cell_type": "code",
   "execution_count": 16,
   "metadata": {},
   "outputs": [],
   "source": [
    "# Comptage des valeurs, par ex col \"typedouleur\"\n",
    "# R : "
   ]
  },
  {
   "cell_type": "code",
   "execution_count": 18,
   "metadata": {},
   "outputs": [],
   "source": [
    "# Un type Series est un vecteur, il est possible d'utiliser des indices\n",
    "# Première valeur ? \n",
    "# R : "
   ]
  },
  {
   "cell_type": "code",
   "execution_count": 19,
   "metadata": {},
   "outputs": [],
   "source": [
    "# 3 premières valeurs ? \n",
    "# R : "
   ]
  },
  {
   "cell_type": "code",
   "execution_count": 21,
   "metadata": {},
   "outputs": [],
   "source": [
    "# Triez les valeurs d'une variable de manière croissante ? \n",
    "# R : "
   ]
  },
  {
   "cell_type": "code",
   "execution_count": 23,
   "metadata": {},
   "outputs": [],
   "source": [
    "# le tri peut être généralisé aux DataFrame\n",
    "# par exemple : triez le df selon l'âge puis afficher les 1è lignes\n",
    "# R : "
   ]
  },
  {
   "cell_type": "markdown",
   "metadata": {},
   "source": [
    "## Accès indicé aux données d'un DataFrame\n",
    "On peut accéder aux valeurs du DataFrame via des indices ou plages d'indice. La structure se comporte alors comme une matrice. La cellule en haut et à gauche est de coordonnées (0,0).\n",
    "\n",
    "Il y a différentes manières de le faire, l'utilisation de .iloc[,] constitue une des solutions les plus simples. N'oublions pas que Shape permet d'obtenir les dimensions (lignes et colonnes) du DataFrame."
   ]
  },
  {
   "cell_type": "code",
   "execution_count": 24,
   "metadata": {},
   "outputs": [],
   "source": [
    "# Accèdez à la valeur située en (0,0) ?\n",
    "# R : "
   ]
  },
  {
   "cell_type": "code",
   "execution_count": 25,
   "metadata": {},
   "outputs": [],
   "source": [
    "# Accédez à la valeur située en dernière ligne, première colonne ? \n",
    "# indice : utilisez l'indiçage négatif\n",
    "# R : "
   ]
  },
  {
   "cell_type": "code",
   "execution_count": 26,
   "metadata": {},
   "outputs": [],
   "source": [
    "# Accédez la valeur située en dernière ligne, première colonne ? \n",
    "# indice : shape[0] renvoie le nombre de lignes (1è dimension) qu'il faut réduire de -1 parce que le 1è indice est égal à 0. \n",
    "# sinon on déborde\n",
    "# R : "
   ]
  },
  {
   "cell_type": "code",
   "execution_count": 27,
   "metadata": {},
   "outputs": [],
   "source": [
    "# Accédez aux 5 premières valeurs de toutes les colonnes ? \n",
    "# lignes => 0:5 (0 à 5 [non inclus])\n",
    "# colonnes = : (toutes les colonnes)\n"
   ]
  },
  {
   "cell_type": "code",
   "execution_count": 28,
   "metadata": {},
   "outputs": [],
   "source": [
    "# Accéder aux 5 dernières lignes du df ? avec l'indiçage négatif, on le peut facilement \n"
   ]
  },
  {
   "cell_type": "code",
   "execution_count": 29,
   "metadata": {},
   "outputs": [],
   "source": [
    "# Accédez aux 5 premières lignes et deux premières colonnes ? \n"
   ]
  },
  {
   "cell_type": "code",
   "execution_count": 30,
   "metadata": {},
   "outputs": [],
   "source": [
    "# Accédez aux 5 1è lignes et colonnes 0, 1 et 4 ? \n",
    "# indice : on a une liste d'indices en colonne\n"
   ]
  },
  {
   "cell_type": "code",
   "execution_count": 31,
   "metadata": {},
   "outputs": [],
   "source": [
    "# faites la même chose autrement ?\n",
    "# indice : remarquez le rôle de 2 dans 0:5:2\n"
   ]
  },
  {
   "cell_type": "markdown",
   "metadata": {
    "collapsed": true
   },
   "source": [
    "## Restrictions avec les conditions - Les requêtes\n",
    "\n",
    "Nous pouvons isoler les sous-ensembles d'observations répondant à des critères définis sur les champs. Nous utiliserons préférentiellement la méthode .loc[,] dans ce cadre."
   ]
  },
  {
   "cell_type": "code",
   "execution_count": 34,
   "metadata": {},
   "outputs": [],
   "source": [
    "# Listez les individus présentant une douleur de type A"
   ]
  },
  {
   "cell_type": "code",
   "execution_count": 34,
   "metadata": {},
   "outputs": [
    {
     "name": "stdout",
     "output_type": "stream",
     "text": [
      "0      False\n",
      "1      False\n",
      "2      False\n",
      "3      False\n",
      "4      False\n",
      "       ...  \n",
      "265    False\n",
      "266    False\n",
      "267    False\n",
      "268    False\n",
      "269    False\n",
      "Name: typedouleur, dtype: bool\n"
     ]
    }
   ],
   "source": [
    "# Nous constatons que l'on indexe avec un vecteur de booléens si on va dans le détail. En effet,\n",
    "print(df['typedouleur'] == \"A\")"
   ]
  },
  {
   "cell_type": "markdown",
   "metadata": {},
   "source": [
    "Seules les observations correspondant à True sont repris par .loc[,]. Nous pouvons les comptabiliser :"
   ]
  },
  {
   "cell_type": "code",
   "execution_count": 35,
   "metadata": {},
   "outputs": [],
   "source": [
    "# Comptez le nombre d'individus qui présente une douleur de type \"A\" ? "
   ]
  },
  {
   "cell_type": "code",
   "execution_count": 36,
   "metadata": {},
   "outputs": [
    {
     "name": "stdout",
     "output_type": "stream",
     "text": [
      "     age      sexe typedouleur sucre  tauxmax angine  depression     coeur\n",
      "2     57  masculin           B     A      141    non           3  presence\n",
      "4     74   feminin           B     A      121    oui           2   absence\n",
      "13    61  masculin           A     A      145    non          26  presence\n",
      "18    64  masculin           A     A      144    oui          18   absence\n",
      "19    40  masculin           A     A      178    oui          14   absence\n",
      "..   ...       ...         ...   ...      ...    ...         ...       ...\n",
      "262   58  masculin           B     A      160    non          18  presence\n",
      "263   49  masculin           B     A      171    non           6   absence\n",
      "264   48  masculin           B     A      168    non          10  presence\n",
      "266   44  masculin           B     A      173    non           0   absence\n",
      "267   56   feminin           B     A      153    non          13   absence\n",
      "\n",
      "[62 rows x 8 columns]\n"
     ]
    }
   ],
   "source": [
    "# pour un ensemble de valeurs de la même variable,\n",
    "# nous utilisons isin()\n",
    "print(df.loc[df['typedouleur'].isin(['A','B']),:])"
   ]
  },
  {
   "cell_type": "markdown",
   "metadata": {},
   "source": [
    "Des opérateurs logiques permettent de combiner les conditions. Nous utilisons respectivement : & pour ET, | pour OU, et ~ pour la négation."
   ]
  },
  {
   "cell_type": "code",
   "execution_count": 36,
   "metadata": {},
   "outputs": [],
   "source": [
    "# Listez les individus présentant une douleur de type A et angine == oui ? "
   ]
  },
  {
   "cell_type": "code",
   "execution_count": 37,
   "metadata": {},
   "outputs": [],
   "source": [
    "# Liste les personnes de moins de 45 ans, de sexe masculin, présentant une maladie cardiaque ? "
   ]
  },
  {
   "cell_type": "code",
   "execution_count": 39,
   "metadata": {},
   "outputs": [
    {
     "name": "stdout",
     "output_type": "stream",
     "text": [
      "     age      sexe     coeur  tauxmax\n",
      "40    40  masculin  presence      181\n",
      "47    44  masculin  presence      177\n",
      "50    42  masculin  presence      125\n",
      "81    35  masculin  presence      130\n",
      "147   40  masculin  presence      114\n",
      "..   ...       ...       ...      ...\n",
      "182   41  masculin  presence      158\n",
      "193   35  masculin  presence      156\n",
      "231   39  masculin  presence      140\n",
      "237   43  masculin  presence      120\n",
      "252   44  masculin  presence      153\n",
      "\n",
      "[11 rows x 4 columns]\n"
     ]
    }
   ],
   "source": [
    "# On peut n'afficher qu'une partie des colonnes\n",
    "# On définit la projection dans une liste\n",
    "colonnes = ['age','sexe','coeur','tauxmax']\n",
    "# que l'on utilise en paramètre dans .loc[]\n",
    "# pour la même restruction que précédemment\n",
    "print(df.loc[(df['age'] < 45) & (df['sexe'] == \"masculin\") & (df['coeur'] == \"presence\"),colonnes])"
   ]
  },
  {
   "cell_type": "markdown",
   "metadata": {},
   "source": [
    "## Calculs récapitulatifs - Croisement des variables\n",
    "\n",
    "A la manière des tableaux croisés dynamiques (TCD) d'Excel, nous pouvons procéder à des croisements et opérer des calculs récapitulatifs, qui vont du comptage simple aux calculs statistiques mettent en jeu d'autres variables."
   ]
  },
  {
   "cell_type": "code",
   "execution_count": 38,
   "metadata": {},
   "outputs": [],
   "source": [
    "# Fréquences selon sexe et coeur (tri croisé) ? \n",
    "# voir : http://pandas.pydata.org/pandas-docs/stable/generated/pandas.crosstab.html\n"
   ]
  },
  {
   "cell_type": "code",
   "execution_count": 39,
   "metadata": {},
   "outputs": [],
   "source": [
    "# Le même tri croisé mais avec un pourcentage en ligne ?\n",
    "# indice : ns pouvons demander un post-traitement après la commande précedente !  "
   ]
  },
  {
   "cell_type": "code",
   "execution_count": 40,
   "metadata": {},
   "outputs": [],
   "source": [
    "# Calculez la moyenne d'âge selon le sexe et la maladie ? \n",
    "# indice : ns utilisons la fonction mean() de la classe Series de la librairie Pandas"
   ]
  },
  {
   "cell_type": "code",
   "execution_count": 43,
   "metadata": {},
   "outputs": [
    {
     "name": "stdout",
     "output_type": "stream",
     "text": [
      "                age         \n",
      "coeur       absence presence\n",
      "sexe                        \n",
      "feminin   54.582090    59.35\n",
      "masculin  51.192771    56.04\n"
     ]
    }
   ],
   "source": [
    "# une autre manière de faire avec la commande pivot_table() pour exactement le même résultat\n",
    "print(df.pivot_table(index=['sexe'],columns=['coeur'],values=['age'],aggfunc=pandas.Series.mean))"
   ]
  },
  {
   "cell_type": "markdown",
   "metadata": {},
   "source": [
    "L'utilisation de groupby() permet d'accéder aux sous-DataFrame associés à chaque item de la variable de regroupement. Il est dès lors possible d'appliquer explicitement d'autres traitements sur ces sous-ensembles de données."
   ]
  },
  {
   "cell_type": "code",
   "execution_count": 46,
   "metadata": {},
   "outputs": [
    {
     "name": "stdout",
     "output_type": "stream",
     "text": [
      "(183, 8)\n"
     ]
    }
   ],
   "source": [
    "# Scission des données selon le sexe\n",
    "g = df.groupby('sexe')\n",
    "\n",
    "# Calculer la dimension du sous-DataFrame associé aux hommes\n",
    "print(g.get_group('masculin').shape)"
   ]
  },
  {
   "cell_type": "code",
   "execution_count": 41,
   "metadata": {},
   "outputs": [],
   "source": [
    "# Calculez la moyenne de l'âge chez les hommes.\n"
   ]
  },
  {
   "cell_type": "code",
   "execution_count": 48,
   "metadata": {},
   "outputs": [
    {
     "name": "stdout",
     "output_type": "stream",
     "text": [
      "                age           depression           \n",
      "               mean       std       mean        std\n",
      "sexe                                               \n",
      "feminin   55.678161  9.626144   8.885057  11.332630\n",
      "masculin  53.841530  8.818189  11.267760  11.459408\n"
     ]
    }
   ],
   "source": [
    "# On peut appliquer différentes fonctions\n",
    "# agg() permet de revenir sur quelque chose qui ressemble au crosstab()\n",
    "print(g[['age','depression']].agg([pandas.Series.mean, pandas.Series.std]))"
   ]
  },
  {
   "cell_type": "code",
   "execution_count": 49,
   "metadata": {},
   "outputs": [
    {
     "name": "stdout",
     "output_type": "stream",
     "text": [
      "feminin\n",
      "55.67816091954023\n",
      "masculin\n",
      "53.84153005464481\n"
     ]
    }
   ],
   "source": [
    "# Nous pouvons itérer sur les groupes\n",
    "for groupe in g:\n",
    "    # groupe est un tuple\n",
    "    print(groupe[0]) #étiquette du groupe\n",
    "    # accès à la variable 'age' du groupe concerné\n",
    "    print(pandas.Series.mean(groupe[1]['age']))"
   ]
  },
  {
   "cell_type": "markdown",
   "metadata": {},
   "source": [
    "## Construction de variables calculées\n",
    "\n",
    "Les calculs sont vectorisés pour les vecteurs de type Series de Pandas. Ce qui évite de passer par des boucles fastidieuses pour manipuler les valeurs des vecteurs."
   ]
  },
  {
   "cell_type": "code",
   "execution_count": 42,
   "metadata": {},
   "outputs": [],
   "source": [
    "# Création d'une variable tauxnet (qui n'a aucune signification médicale)\n",
    "# Utilisation de la libraire numpy (log = logarithme népérien)\n"
   ]
  },
  {
   "cell_type": "code",
   "execution_count": 43,
   "metadata": {},
   "outputs": [],
   "source": [
    "# Ns cherchons à la concaténer au DataFrame\n"
   ]
  },
  {
   "cell_type": "markdown",
   "metadata": {},
   "source": [
    "La construction d'une variable ex-nihilo est également possible. Par ex., nous souhaitons créer une indicatrice pour la variable sexe, 1 pour masculin, 0 pour féminin."
   ]
  },
  {
   "cell_type": "code",
   "execution_count": 52,
   "metadata": {},
   "outputs": [
    {
     "name": "stdout",
     "output_type": "stream",
     "text": [
      "(270,)\n"
     ]
    }
   ],
   "source": [
    "# Création d'une Série de 0 de la même longueur\n",
    "# que notre DataFrame(nombre de lignes)\n",
    "# nous utilisons la méthode de numpy pour cela\n",
    "code = pandas.Series(numpy.zeros(df.shape[0]))\n",
    "print(code.shape)"
   ]
  },
  {
   "cell_type": "code",
   "execution_count": 53,
   "metadata": {},
   "outputs": [
    {
     "name": "stdout",
     "output_type": "stream",
     "text": [
      "1.0    183\n",
      "0.0     87\n",
      "dtype: int64\n"
     ]
    }
   ],
   "source": [
    "#les \"sexe = masculin\" sont codés 1\n",
    "#de fait, \"sexe = feminin\" est codé zéro puisque le \n",
    "#vecteur a préalablement été créé avec des valeurs 0\n",
    "code[df['sexe']=='masculin'] = 1\n",
    "print(code.value_counts())"
   ]
  },
  {
   "cell_type": "code",
   "execution_count": 54,
   "metadata": {},
   "outputs": [
    {
     "name": "stdout",
     "output_type": "stream",
     "text": [
      "1    183\n",
      "0     87\n",
      "Name: sexe, dtype: int64\n"
     ]
    }
   ],
   "source": [
    "#une autre solution plus simple, mais il faut connaître eq()\n",
    "codebis = df['sexe'].eq('masculin').astype('int')\n",
    "print(codebis.value_counts())"
   ]
  },
  {
   "cell_type": "markdown",
   "metadata": {},
   "source": [
    "## Graphiques\n",
    "\n",
    "Passer par matplotlib permet de réaliser des graphiques performants (http://matplotlib.org/). Mais il faut connaître les procédures de la librairie, ce qui nécessite un apprentissage supplémentaire qui n'est pas toujours évident.\n",
    "\n",
    "Heureusement, Pandas propose des commandes simples qui encapsulent l'appel à ces procédures et nous simplifie grandement la vie. Il faut importer matplotlib pour que l'ensemble fonctionne correctement."
   ]
  },
  {
   "cell_type": "code",
   "execution_count": 55,
   "metadata": {
    "collapsed": true
   },
   "outputs": [],
   "source": [
    "#indiquer que l'on veut voir apparaître les graphiques dans le notebook\n",
    "#/!\\ très important, sinon on ne verrait rien \n",
    "%matplotlib inline\n",
    "\n",
    "#importation de la librairie\n",
    "import matplotlib.pyplot as plt"
   ]
  },
  {
   "cell_type": "code",
   "execution_count": 44,
   "metadata": {},
   "outputs": [],
   "source": [
    "# Tracer 1histogramme de l'âge ? "
   ]
  },
  {
   "cell_type": "code",
   "execution_count": 45,
   "metadata": {},
   "outputs": [],
   "source": [
    "# Tracer 1density plot ? "
   ]
  },
  {
   "cell_type": "code",
   "execution_count": 46,
   "metadata": {},
   "outputs": [],
   "source": [
    "# Tracer l'histogramme de l'âge selon le sexe ? "
   ]
  },
  {
   "cell_type": "code",
   "execution_count": 47,
   "metadata": {},
   "outputs": [],
   "source": [
    "# Comparaison des distributions avec un boxplot ? "
   ]
  },
  {
   "cell_type": "code",
   "execution_count": 48,
   "metadata": {},
   "outputs": [],
   "source": [
    "# Tracer 1scatterplot : age vs. tauxmax ? "
   ]
  },
  {
   "cell_type": "code",
   "execution_count": 49,
   "metadata": {},
   "outputs": [],
   "source": [
    "# Tracer 1scatterplot (age vs. tauxmax) en distinguant les points ? \n",
    "# (niveau de gris) selon les valeurs de dépression"
   ]
  },
  {
   "cell_type": "code",
   "execution_count": 51,
   "metadata": {},
   "outputs": [],
   "source": [
    "# Tracer 1 scatterplot (age vs. tauxmax) en distinguant les points selon les valeurs de coeur ? \n",
    "# indice : nécessite un recodage de coeur - ici en 0/1\n",
    "# afficher le graphique en spécifiant la couleur (blue = 0, green = 1)"
   ]
  },
  {
   "cell_type": "code",
   "execution_count": 52,
   "metadata": {},
   "outputs": [],
   "source": [
    "# Tracer 1diagramme à secteurs - comptage de sexe ? "
   ]
  },
  {
   "cell_type": "code",
   "execution_count": 53,
   "metadata": {},
   "outputs": [],
   "source": [
    "# TRacez le scatterplot des variables pris deux à deux\n",
    "# Cela n'a d'intérêt que pour les variables quantitatives bien évidemment"
   ]
  }
 ],
 "metadata": {
  "kernelspec": {
   "display_name": "Python 3",
   "language": "python",
   "name": "python3"
  },
  "language_info": {
   "codemirror_mode": {
    "name": "ipython",
    "version": 3
   },
   "file_extension": ".py",
   "mimetype": "text/x-python",
   "name": "python",
   "nbconvert_exporter": "python",
   "pygments_lexer": "ipython3",
   "version": "3.7.9"
  }
 },
 "nbformat": 4,
 "nbformat_minor": 2
}

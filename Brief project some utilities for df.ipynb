{
 "cells": [
  {
   "cell_type": "markdown",
   "metadata": {},
   "source": [
    "***\n",
    "### Compétence : Maîtriser les diff casses d'un code (camel, pascal,...)\n",
    "- Objectif métier : avoir le même jargon des développeurs,... (lors d'un entretien, travail en équipe sur un projet,...).   \n",
    "- Objectif technique : Ecrire du code en respectant les conventions de nommage. \n",
    "- Application data :         \n",
    "Help : https://wprock.fr/blog/conventions-nommage-programmation/\n",
    "***"
   ]
  },
  {
   "cell_type": "markdown",
   "metadata": {},
   "source": [
    "\n",
    "SublmimeText3 : vs pouvez par ex installer le pkg CaseConversion et consulter ses scripts|      \n",
    ":-------------------------:|:-------------------------:\n",
    "![alt-text-1](https://i.stack.imgur.com/gtDCS.png)|![alt-text-2](https://encrypted-tbn0.gstatic.com/images?q=tbn:ANd9GcS1_XQnExWbHfWfUwbZL6Ve5QgnNrjqcb3wUz1D6rErPj6XA2WM)  \n",
    "***"
   ]
  },
  {
   "cell_type": "markdown",
   "metadata": {},
   "source": [
    "**Q : Lire le fichier Dummies.csv ?**"
   ]
  },
  {
   "cell_type": "code",
   "execution_count": 21,
   "metadata": {
    "scrolled": true
   },
   "outputs": [
    {
     "name": "stdout",
     "output_type": "stream",
     "text": [
      "- Lecture normale effectuée !\n",
      "- Les dimensions du dataframe sont : 891 lignes x 12 colonnes\n",
      "- Les types des cols sont :\n",
      " int64      5\n",
      "object     5\n",
      "float64    2\n",
      "dtype: int64\n"
     ]
    }
   ],
   "source": [
    "df = read_table('Dummies.csv', sep = ',')"
   ]
  },
  {
   "cell_type": "code",
   "execution_count": 29,
   "metadata": {},
   "outputs": [
    {
     "data": {
      "text/html": [
       "<div>\n",
       "<style scoped>\n",
       "    .dataframe tbody tr th:only-of-type {\n",
       "        vertical-align: middle;\n",
       "    }\n",
       "\n",
       "    .dataframe tbody tr th {\n",
       "        vertical-align: top;\n",
       "    }\n",
       "\n",
       "    .dataframe thead th {\n",
       "        text-align: right;\n",
       "    }\n",
       "</style>\n",
       "<table border=\"1\" class=\"dataframe\">\n",
       "  <thead>\n",
       "    <tr style=\"text-align: right;\">\n",
       "      <th></th>\n",
       "      <th>PassengerId</th>\n",
       "      <th>Survived</th>\n",
       "      <th>Pclass</th>\n",
       "      <th>Name</th>\n",
       "      <th>Sex</th>\n",
       "      <th>...</th>\n",
       "      <th>Parch</th>\n",
       "      <th>Ticket</th>\n",
       "      <th>Fare</th>\n",
       "      <th>Cabin</th>\n",
       "      <th>Embarked</th>\n",
       "    </tr>\n",
       "  </thead>\n",
       "  <tbody>\n",
       "    <tr>\n",
       "      <th>0</th>\n",
       "      <td>1</td>\n",
       "      <td>0</td>\n",
       "      <td>3</td>\n",
       "      <td>Braund...</td>\n",
       "      <td>male</td>\n",
       "      <td>...</td>\n",
       "      <td>0</td>\n",
       "      <td>A/5 21171</td>\n",
       "      <td>7.250</td>\n",
       "      <td>NaN</td>\n",
       "      <td>S</td>\n",
       "    </tr>\n",
       "    <tr>\n",
       "      <th>1</th>\n",
       "      <td>2</td>\n",
       "      <td>1</td>\n",
       "      <td>1</td>\n",
       "      <td>Cuming...</td>\n",
       "      <td>female</td>\n",
       "      <td>...</td>\n",
       "      <td>0</td>\n",
       "      <td>PC 17599</td>\n",
       "      <td>71.283</td>\n",
       "      <td>C85</td>\n",
       "      <td>C</td>\n",
       "    </tr>\n",
       "    <tr>\n",
       "      <th>2</th>\n",
       "      <td>3</td>\n",
       "      <td>1</td>\n",
       "      <td>3</td>\n",
       "      <td>Heikki...</td>\n",
       "      <td>female</td>\n",
       "      <td>...</td>\n",
       "      <td>0</td>\n",
       "      <td>STON/O...</td>\n",
       "      <td>7.925</td>\n",
       "      <td>NaN</td>\n",
       "      <td>S</td>\n",
       "    </tr>\n",
       "    <tr>\n",
       "      <th>...</th>\n",
       "      <td>...</td>\n",
       "      <td>...</td>\n",
       "      <td>...</td>\n",
       "      <td>...</td>\n",
       "      <td>...</td>\n",
       "      <td>...</td>\n",
       "      <td>...</td>\n",
       "      <td>...</td>\n",
       "      <td>...</td>\n",
       "      <td>...</td>\n",
       "      <td>...</td>\n",
       "    </tr>\n",
       "    <tr>\n",
       "      <th>888</th>\n",
       "      <td>889</td>\n",
       "      <td>0</td>\n",
       "      <td>3</td>\n",
       "      <td>Johnst...</td>\n",
       "      <td>female</td>\n",
       "      <td>...</td>\n",
       "      <td>2</td>\n",
       "      <td>W./C. ...</td>\n",
       "      <td>23.450</td>\n",
       "      <td>NaN</td>\n",
       "      <td>S</td>\n",
       "    </tr>\n",
       "    <tr>\n",
       "      <th>889</th>\n",
       "      <td>890</td>\n",
       "      <td>1</td>\n",
       "      <td>1</td>\n",
       "      <td>Behr, ...</td>\n",
       "      <td>male</td>\n",
       "      <td>...</td>\n",
       "      <td>0</td>\n",
       "      <td>111369</td>\n",
       "      <td>30.000</td>\n",
       "      <td>C148</td>\n",
       "      <td>C</td>\n",
       "    </tr>\n",
       "    <tr>\n",
       "      <th>890</th>\n",
       "      <td>891</td>\n",
       "      <td>0</td>\n",
       "      <td>3</td>\n",
       "      <td>Dooley...</td>\n",
       "      <td>male</td>\n",
       "      <td>...</td>\n",
       "      <td>0</td>\n",
       "      <td>370376</td>\n",
       "      <td>7.750</td>\n",
       "      <td>NaN</td>\n",
       "      <td>Q</td>\n",
       "    </tr>\n",
       "  </tbody>\n",
       "</table>\n",
       "<p>891 rows × 12 columns</p>\n",
       "</div>"
      ],
      "text/plain": [
       "     PassengerId  Survived  Pclass       Name     Sex    ...     Parch     Ticket    Fare Cabin  Embarked\n",
       "0            1           0       3  Braund...    male    ...         0  A/5 21171   7.250   NaN         S\n",
       "1            2           1       1  Cuming...  female    ...         0   PC 17599  71.283   C85         C\n",
       "2            3           1       3  Heikki...  female    ...         0  STON/O...   7.925   NaN         S\n",
       "..         ...         ...     ...        ...     ...    ...       ...        ...     ...   ...       ...\n",
       "888        889           0       3  Johnst...  female    ...         2  W./C. ...  23.450   NaN         S\n",
       "889        890           1       1  Behr, ...    male    ...         0     111369  30.000  C148         C\n",
       "890        891           0       3  Dooley...    male    ...         0     370376   7.750   NaN         Q\n",
       "\n",
       "[891 rows x 12 columns]"
      ]
     },
     "execution_count": 29,
     "metadata": {},
     "output_type": "execute_result"
    }
   ],
   "source": [
    "df"
   ]
  },
  {
   "cell_type": "markdown",
   "metadata": {},
   "source": [
    "**Q : Tester si chaque élément de la liste suivante comporte des maj et en miniscule (à la fois) ?**"
   ]
  },
  {
   "cell_type": "code",
   "execution_count": null,
   "metadata": {},
   "outputs": [],
   "source": [
    "list_case = [\n",
    "        \"camel\",\n",
    "        \"camelCase\",\n",
    "        \"CamelCase\",\n",
    "        \"CAMELCASE\",\n",
    "        \"camelcase\",\n",
    "        \"Camelcase\",\n",
    "        \"Case\"\n",
    "        ]"
   ]
  },
  {
   "cell_type": "markdown",
   "metadata": {},
   "source": [
    "**Q : Quelle est le format d'écriture des noms des vars (PassengerId, Pclass, SibSp) ?** Indice : lower case, camel case, pascal case,... ?   "
   ]
  },
  {
   "cell_type": "markdown",
   "metadata": {},
   "source": [
    "***\n",
    "Ns allons appliquer ces notions de case aux noms des cols du df. L'idée est de détecter automtq la casse des noms des cols. En fait, ns allons vu jusqu'à maintenant qu'il vaut mieux mettre tt en miniscule et de remplacer les espaces par '_'.   \n",
    "Par exemple : 'Passenger Id' => 'passenger_id'  \n",
    "Or 'Passenger Id' s'écrit maintenant 'PassengerId'. Du coup, si on applique notre méthode (sans faire attention) 'PassengerId' devient 'passengerid' (ce que ns souhaitons éviter parcq le nom du col devient illisible).  \n",
    "**Q : Créer 1fonc qui permet de transformer les noms des cols en snake_case. \n",
    "***"
   ]
  },
  {
   "cell_type": "markdown",
   "metadata": {},
   "source": [
    "**Q : Créer également 1fonc qui permet de renommer les cols de tel sorte PassengerId devient z0_passenger_id, z1_survived,..., z11_embarked ?**  \n",
    "Remarquer maintenant que l'autocomplétion des noms des vars devient plus pratique !  \n",
    "**Q : Créer la fonction qui permet de revenir aux noms initiaux ? **"
   ]
  },
  {
   "cell_type": "code",
   "execution_count": 47,
   "metadata": {},
   "outputs": [],
   "source": [
    "df.rename(columns={'c_1_PassengerId' : 'z1_PassengerId', 'Survived' : 'z2_Survived'}, inplace=True)"
   ]
  },
  {
   "cell_type": "code",
   "execution_count": 48,
   "metadata": {},
   "outputs": [
    {
     "data": {
      "text/plain": [
       "Index(['z1_PassengerId', 'z2_Survived', 'Pclass', 'Name', 'Sex', 'Age',\n",
       "       'SibSp', 'Parch', 'Ticket', 'Fare', 'Cabin', 'Embarked'],\n",
       "      dtype='object')"
      ]
     },
     "execution_count": 48,
     "metadata": {},
     "output_type": "execute_result"
    }
   ],
   "source": [
    "df.columns"
   ]
  },
  {
   "cell_type": "code",
   "execution_count": 50,
   "metadata": {},
   "outputs": [
    {
     "data": {
      "text/plain": [
       "z1_PassengerId    True\n",
       "z2_Survived       True\n",
       "Pclass            True\n",
       "Age               True\n",
       "SibSp             True\n",
       "Parch             True\n",
       "Fare              True\n",
       "dtype: bool"
      ]
     },
     "execution_count": 50,
     "metadata": {},
     "output_type": "execute_result"
    }
   ],
   "source": [
    "df.select_dtypes(exclude = ['object']).min() >= 0"
   ]
  },
  {
   "cell_type": "markdown",
   "metadata": {},
   "source": [
    "***\n",
    "**Obj final : Créer 1fonc générique qui permet d'optimiser la taille mémoire consommée par le df (en allouant aux cols les meilleurs types possibles : int8, uint8, categorical,...) ? Vs pouvez stocker cette fonc ds le script startup.py (et l'utiliser au besoin).**\n",
    "- Appliquer votre fonc au df (créer une copie \"df1\", n'écraser pas le df initial) ? Rajouter \"1\" aux noms des cols df1, exemple 'z0_PassengerId' => 'z0_PassengerId1' (afin de ne pas se perdre entre les cols de chaque df).\n",
    "***"
   ]
  },
  {
   "cell_type": "markdown",
   "metadata": {},
   "source": [
    "Ds ce que suit, ns allons travaillons sur les 2 df.  \n",
    "- **La col 'z4_Sex1' de type maintenant categorical comporte deux modalités (female = 0, male = 1) ; à vérifier ?**  \n",
    "- **La col 'z11_Embarqued1' de type maintenant categorical comporte trois modalités (C = 0, Q = 1 et S = 2) ; à vérifier ?**\n",
    "- **Q : Ns ns concentrons sur les cols 'z11_embarqued' et 'z11_embarqued1'. L'idée est de construire 3 variables à partir de cette col : 'embarked_c', 'embarked_q' et 'embarked_s'.**  Evidemment, adapter les noms de ces nouvelles cols (à notre convention). \n",
    "embarked_c = 1 si embarqued == 'C', 0 sinon  \n",
    "embarked_q = 1 si embarqued == 'Q', 0 sinon  \n",
    "embarked_s = 1 si embarqued == 'S', 0 sinon  \n",
    "L'ensemble de ces vars sont ce qu'on appelle des dummies (ou var muette, dichotomique) !  \n",
    "**Q : Utiliser successivement les méthodes suivantes : 'if', 'map', get_dummies (sur les 2df) **\n",
    "**Q : Peut-t-on convertir systématiquement les cols de type objects en type Categorical ?**   "
   ]
  }
 ],
 "metadata": {
  "kernelspec": {
   "display_name": "Python 3",
   "language": "python",
   "name": "python3"
  },
  "language_info": {
   "codemirror_mode": {
    "name": "ipython",
    "version": 3
   },
   "file_extension": ".py",
   "mimetype": "text/x-python",
   "name": "python",
   "nbconvert_exporter": "python",
   "pygments_lexer": "ipython3",
   "version": "3.7.6"
  },
  "varInspector": {
   "cols": {
    "lenName": 16,
    "lenType": 16,
    "lenVar": 40
   },
   "kernels_config": {
    "python": {
     "delete_cmd_postfix": "",
     "delete_cmd_prefix": "del ",
     "library": "var_list.py",
     "varRefreshCmd": "print(var_dic_list())"
    },
    "r": {
     "delete_cmd_postfix": ") ",
     "delete_cmd_prefix": "rm(",
     "library": "var_list.r",
     "varRefreshCmd": "cat(var_dic_list()) "
    }
   },
   "types_to_exclude": [
    "module",
    "function",
    "builtin_function_or_method",
    "instance",
    "_Feature"
   ],
   "window_display": false
  }
 },
 "nbformat": 4,
 "nbformat_minor": 2
}

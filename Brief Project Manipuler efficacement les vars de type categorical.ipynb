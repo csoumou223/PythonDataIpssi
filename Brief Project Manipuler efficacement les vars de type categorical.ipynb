{
 "cells": [
  {
   "cell_type": "markdown",
   "metadata": {},
   "source": [
    "# Brief Project : les vars quali binaires et à plusieurs modalités "
   ]
  },
  {
   "cell_type": "markdown",
   "metadata": {},
   "source": [
    "**Q : Lire le fichier 'Category.csv ?**"
   ]
  },
  {
   "cell_type": "code",
   "execution_count": null,
   "metadata": {},
   "outputs": [],
   "source": [
    "df  =  pd"
   ]
  },
  {
   "cell_type": "markdown",
   "metadata": {},
   "source": [
    "**Q : Calculer la taille mémoire occupée par les cols 'continent' et 'country' ?**"
   ]
  },
  {
   "cell_type": "markdown",
   "metadata": {},
   "source": [
    "**Q : Triez la col 'continent' et 'country' ds 1ordre alphabétique croissant et lister pr chacune leur modalités (uniques) ?**  \n",
    "**Q : Quelle est la différence entre sorted et sort_values ?** "
   ]
  },
  {
   "cell_type": "markdown",
   "metadata": {},
   "source": [
    "**Q : Convertir les cols 'continent' et 'country' en type 'category' et mesurer la taille mémoire occupée par chacune ?**  \n",
    "**Comparer les tailles avant/après et expliquer la 'surprise obtenue' avec la col 'country' ?**"
   ]
  },
  {
   "cell_type": "markdown",
   "metadata": {},
   "source": [
    "**Q : Cmnt fonctionne le type 'category' ? Pr cela, testez les commandes suivantes**\n"
   ]
  },
  {
   "cell_type": "code",
   "execution_count": null,
   "metadata": {},
   "outputs": [],
   "source": [
    "df.continent.cat.codes.head()\n",
    "df.country.cat.codes.head()\n",
    "df.continent.cat.categories\n",
    "df.country.cat.categories"
   ]
  },
  {
   "cell_type": "markdown",
   "metadata": {},
   "source": [
    "**Maîtriser le type 'category'**  \n",
    "**Q : Transformer ce dico en df et trier le df selon la col 'quality' ds 1ordre croissant (et inversement) ?**  \n",
    "dico = {'ID':[100, 101, 102, 103], 'quality':['good', 'very good', 'good', 'excellent']}"
   ]
  },
  {
   "cell_type": "markdown",
   "metadata": {},
   "source": [
    "**Q : Slicez le df pr obtenir que les données dont la col 'quality' indique 'very good' et 'excellent' ?**"
   ]
  },
  {
   "cell_type": "code",
   "execution_count": null,
   "metadata": {},
   "outputs": [],
   "source": [
    "df.loc[df.quality > 'good', :]"
   ]
  },
  {
   "cell_type": "markdown",
   "metadata": {},
   "source": [
    "**Q : Revenez sur le fichier games_logs.csv et convertir les col adéquates en Category ?**"
   ]
  },
  {
   "cell_type": "markdown",
   "metadata": {},
   "source": [
    "**Q : Est-ce qu'on doit convertir la col 'date' de games_logs.csv en type datetime ?**"
   ]
  },
  {
   "cell_type": "markdown",
   "metadata": {},
   "source": [
    "**Q : Approfondir les méthodes de tri de df ?**\n",
    "http://cmdlinetips.com/2018/02/how-to-sort-pandas-dataframe-by-columns-and-row/"
   ]
  }
 ],
 "metadata": {
  "kernelspec": {
   "display_name": "Python 3",
   "language": "python",
   "name": "python3"
  },
  "language_info": {
   "codemirror_mode": {
    "name": "ipython",
    "version": 3
   },
   "file_extension": ".py",
   "mimetype": "text/x-python",
   "name": "python",
   "nbconvert_exporter": "python",
   "pygments_lexer": "ipython3",
   "version": "3.7.6"
  },
  "varInspector": {
   "cols": {
    "lenName": 16,
    "lenType": 16,
    "lenVar": 40
   },
   "kernels_config": {
    "python": {
     "delete_cmd_postfix": "",
     "delete_cmd_prefix": "del ",
     "library": "var_list.py",
     "varRefreshCmd": "print(var_dic_list())"
    },
    "r": {
     "delete_cmd_postfix": ") ",
     "delete_cmd_prefix": "rm(",
     "library": "var_list.r",
     "varRefreshCmd": "cat(var_dic_list()) "
    }
   },
   "types_to_exclude": [
    "module",
    "function",
    "builtin_function_or_method",
    "instance",
    "_Feature"
   ],
   "window_display": false
  }
 },
 "nbformat": 4,
 "nbformat_minor": 2
}

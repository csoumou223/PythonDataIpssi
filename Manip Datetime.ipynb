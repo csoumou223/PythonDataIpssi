{
 "cells": [
  {
   "cell_type": "markdown",
   "metadata": {
    "toc": true
   },
   "source": [
    "<h1>Table of Contents<span class=\"tocSkip\"></span></h1>\n",
    "<div class=\"toc\"><ul class=\"toc-item\"><li><span><a href=\"#Projet-:-Travailler-sur-le-format-date--?\" data-toc-modified-id=\"Projet-:-Travailler-sur-le-format-date--?-1\" data-vivaldi-spatnav-clickable=\"1\"><span class=\"toc-item-num\">1&nbsp;&nbsp;</span>Projet : Travailler sur le format date  ?</a></span></li><li><span><a href=\"#Correction\" data-toc-modified-id=\"Correction-2\" data-vivaldi-spatnav-clickable=\"1\"><span class=\"toc-item-num\">2&nbsp;&nbsp;</span>Correction</a></span><ul class=\"toc-item\"><li><span><a href=\"#Chargement-du-df\" data-toc-modified-id=\"Chargement-du-df-2.1\" data-vivaldi-spatnav-clickable=\"1\"><span class=\"toc-item-num\">2.1&nbsp;&nbsp;</span>Chargement du df</a></span></li><li><span><a href=\"#Renommer-les-cols-du-camelCase-au-snake_cas\" data-toc-modified-id=\"Renommer-les-cols-du-camelCase-au-snake_cas-2.2\" data-vivaldi-spatnav-clickable=\"1\"><span class=\"toc-item-num\">2.2&nbsp;&nbsp;</span>Renommer les cols du camelCase au snake_cas</a></span></li><li><span><a href=\"#Q-:-Quelles-sont-les-types-de-colonnes-?\" data-toc-modified-id=\"Q-:-Quelles-sont-les-types-de-colonnes-?-2.3\" data-vivaldi-spatnav-clickable=\"1\"><span class=\"toc-item-num\">2.3&nbsp;&nbsp;</span>Q : Quelles sont les types de colonnes ?</a></span></li><li><span><a href=\"#Convertir-en-type-datetime-?\" data-toc-modified-id=\"Convertir-en-type-datetime-?-2.4\" data-vivaldi-spatnav-clickable=\"1\"><span class=\"toc-item-num\">2.4&nbsp;&nbsp;</span>Convertir en type datetime ?</a></span></li></ul></li><li><span><a href=\"#Optionel-mais-recommandé\" data-toc-modified-id=\"Optionel-mais-recommandé-3\" data-vivaldi-spatnav-clickable=\"1\"><span class=\"toc-item-num\">3&nbsp;&nbsp;</span>Optionel mais recommandé</a></span><ul class=\"toc-item\"><li><span><a href=\"#Q-:-Extraire-l'heure,-les-minutes,-l'année,-le-mois,-le-jour\" data-toc-modified-id=\"Q-:-Extraire-l'heure,-les-minutes,-l'année,-le-mois,-le-jour-3.1\" data-vivaldi-spatnav-clickable=\"1\"><span class=\"toc-item-num\">3.1&nbsp;&nbsp;</span>Q : Extraire l'heure, les minutes, l'année, le mois, le jour</a></span></li><li><span><a href=\"#Comparer-la-col-construite-manuellement-et-la-col-en-datetime\" data-toc-modified-id=\"Comparer-la-col-construite-manuellement-et-la-col-en-datetime-3.2\" data-vivaldi-spatnav-clickable=\"1\"><span class=\"toc-item-num\">3.2&nbsp;&nbsp;</span>Comparer la col construite manuellement et la col en datetime</a></span></li><li><span><a href=\"#Date-la-plus-récente\" data-toc-modified-id=\"Date-la-plus-récente-3.3\" data-vivaldi-spatnav-clickable=\"1\"><span class=\"toc-item-num\">3.3&nbsp;&nbsp;</span>Date la plus récente</a></span></li><li><span><a href=\"#Delta-time\" data-toc-modified-id=\"Delta-time-3.4\" data-vivaldi-spatnav-clickable=\"1\"><span class=\"toc-item-num\">3.4&nbsp;&nbsp;</span>Delta time</a></span></li></ul></li></ul></div>"
   ]
  },
  {
   "cell_type": "markdown",
   "metadata": {},
   "source": [
    "# Projet : Travailler sur le format date  ?"
   ]
  },
  {
   "cell_type": "markdown",
   "metadata": {},
   "source": [
    "help : https://pandas.pydata.org/pandas-docs/stable/generated/pandas.to_datetime.html"
   ]
  },
  {
   "cell_type": "markdown",
   "metadata": {},
   "source": [
    "**Le chef de projet vous passe un fichier `Manip Datetime.csv` à uploader depuis le drive en tant qu'objet DataFrame (nom = `df`) et réponder aux questions suivantes ?**  \n",
    "- **Q : Quelle est la date la plus récente ?**\n",
    "- **Q : Extraire les observations supérieures ou égales à 1/1/1999 ?**\n",
    "- **Q : Calculer la durée couverte par les observations ?**  \n",
    "\n",
    "**Instructions à suivre**\n",
    "  \n",
    "- **Q : Formatter les noms des vars en miniscule et remplacer les espaces par `_` => `snake_case` ?**\n",
    "- **Q : Quelles sont les types des colonnes ?**\n",
    "\n",
    "**Remarquez que la colonne `Time` dont le nom est maintenant `time` est de type `object`. Ds cette dernière est stockée des dates (par ex, 1è obs : `6/1/1930 22:00`) ce qui correspond au format (`m/j/yyyy hh:mm`). Dans la suite, nous nous concentrons sur cette col :**\n",
    "- **Q : Extraire (Indice : `slice`) :**\n",
    "    - **Le mois, `6/1/1930 22:00` => `1` : \n",
    "    . Mais faites attention pour gérer les mois `10`, `11` et `12`.**\n",
    "    - **Le jour, attention, ce n'est pas la même manip entre la 1è obs `6/1/1930 22:00` => `1` et la 2è obs : `6/30/1930 20:00` => `30`**  \n",
    "    - **L'heure, par ex : `6/1/1930 22:00` => `22`**\n",
    "    - **Les minutes, `6/1/1930 22:00` => `00`.**\n",
    "    - **L'année.** \n",
    "    \n",
    "**N.B : Stocker chaque information extraite dans une nouvelle col ; donc 5 cols en tout : `year`, `month`, `day`, `hour`, `min`.**\n",
    "\n",
    "**Q : Créer une nouvelle col `time_by_hand` où vs concaténez les 5 dernières cols fraîchement crées.**    \n",
    "\n",
    "**Si vous êtes bons sur le slicing et la création des nouvelles cols, les deux cols `time` et `time_by_hand` doivent être identiques doivent être identiques ! Comparer les ? Alors êtes-vous bons dans votre démarche ?**  \n",
    "\n",
    "    \n",
    "- Q : Extraire l'heure de la col `time` ?\n",
    "\n",
    "- Remarquez que la colonne \"Time\" dont le nom est maintenant \"time\" est de type \"object\". Ds cette dernière est stocké des dates (par ex, 1è obs : 6/1/1930 22:00) ce qui correspond au format (m/j/yyyy hh:mm).  \n",
    "\n",
    "**Q : Créer une nouvelle col `time_by_pd` de type `datetime` (à partir de la var `time`) ?\n",
    "N'écraser pas la var initiale. La var `time_by_pd` doit être incluse ds le df.   \n",
    "Indice : pd.to_datetime**"
   ]
  },
  {
   "cell_type": "markdown",
   "metadata": {},
   "source": [
    "# Correction  "
   ]
  },
  {
   "cell_type": "markdown",
   "metadata": {
    "heading_collapsed": true
   },
   "source": [
    "## Chargement du df"
   ]
  },
  {
   "cell_type": "markdown",
   "metadata": {
    "hidden": true
   },
   "source": [
    "**Q : En utilisant la fonc générique que ns avons mis au point pr lire les df, chargez le fichier \"Manip Datetime.csv\" depuis le drive en tant qu'objet DataFrame (nom = df) ?**"
   ]
  },
  {
   "cell_type": "code",
   "execution_count": 2,
   "metadata": {
    "hidden": true
   },
   "outputs": [],
   "source": [
    "import pandas as pd"
   ]
  },
  {
   "cell_type": "code",
   "execution_count": 5,
   "metadata": {
    "hidden": true
   },
   "outputs": [
    {
     "data": {
      "text/html": [
       "<div>\n",
       "<style scoped>\n",
       "    .dataframe tbody tr th:only-of-type {\n",
       "        vertical-align: middle;\n",
       "    }\n",
       "\n",
       "    .dataframe tbody tr th {\n",
       "        vertical-align: top;\n",
       "    }\n",
       "\n",
       "    .dataframe thead th {\n",
       "        text-align: right;\n",
       "    }\n",
       "</style>\n",
       "<table border=\"1\" class=\"dataframe\">\n",
       "  <thead>\n",
       "    <tr style=\"text-align: right;\">\n",
       "      <th></th>\n",
       "      <th>City</th>\n",
       "      <th>Colors Reported</th>\n",
       "      <th>Shape Reported</th>\n",
       "      <th>State</th>\n",
       "      <th>Time</th>\n",
       "    </tr>\n",
       "  </thead>\n",
       "  <tbody>\n",
       "    <tr>\n",
       "      <th>0</th>\n",
       "      <td>Ithaca</td>\n",
       "      <td>NaN</td>\n",
       "      <td>TRIANGLE</td>\n",
       "      <td>NY</td>\n",
       "      <td>6/1/19...</td>\n",
       "    </tr>\n",
       "    <tr>\n",
       "      <th>1</th>\n",
       "      <td>Willin...</td>\n",
       "      <td>NaN</td>\n",
       "      <td>OTHER</td>\n",
       "      <td>NJ</td>\n",
       "      <td>6/30/1...</td>\n",
       "    </tr>\n",
       "    <tr>\n",
       "      <th>2</th>\n",
       "      <td>Holyoke</td>\n",
       "      <td>NaN</td>\n",
       "      <td>OVAL</td>\n",
       "      <td>CO</td>\n",
       "      <td>2/15/1...</td>\n",
       "    </tr>\n",
       "    <tr>\n",
       "      <th>3</th>\n",
       "      <td>Abilene</td>\n",
       "      <td>NaN</td>\n",
       "      <td>DISK</td>\n",
       "      <td>KS</td>\n",
       "      <td>6/1/19...</td>\n",
       "    </tr>\n",
       "    <tr>\n",
       "      <th>4</th>\n",
       "      <td>New Yo...</td>\n",
       "      <td>NaN</td>\n",
       "      <td>LIGHT</td>\n",
       "      <td>NY</td>\n",
       "      <td>4/18/1...</td>\n",
       "    </tr>\n",
       "  </tbody>\n",
       "</table>\n",
       "</div>"
      ],
      "text/plain": [
       "        City Colors Reported Shape Reported State       Time\n",
       "0     Ithaca        NaN        TRIANGLE        NY  6/1/19...\n",
       "1  Willin...        NaN           OTHER        NJ  6/30/1...\n",
       "2    Holyoke        NaN            OVAL        CO  2/15/1...\n",
       "3    Abilene        NaN            DISK        KS  6/1/19...\n",
       "4  New Yo...        NaN           LIGHT        NY  4/18/1..."
      ]
     },
     "execution_count": 5,
     "metadata": {},
     "output_type": "execute_result"
    }
   ],
   "source": [
    "df = pd.read_table(\"Manip Datetime.csv\", sep = ',')\n",
    "df.head()"
   ]
  },
  {
   "cell_type": "markdown",
   "metadata": {
    "heading_collapsed": true
   },
   "source": [
    "## Renommer les cols du camelCase au snake_cas  "
   ]
  },
  {
   "cell_type": "markdown",
   "metadata": {
    "hidden": true
   },
   "source": [
    "**Q : Comme convenu, formatter les noms des vars (tt en miniscule, pas d'espace,...) ?**"
   ]
  },
  {
   "cell_type": "code",
   "execution_count": null,
   "metadata": {
    "hidden": true
   },
   "outputs": [],
   "source": [
    "df.columns = df.columns.str.lower().str.strip().str.replace(' ', '_') #la méthode la + efficace\n",
    "\n",
    "def rename(col) : \n",
    "    return col.strip().lower().replace(' ','_')\n",
    "\n",
    "df.columns  =  [rename(col) for col in df.columns]"
   ]
  },
  {
   "cell_type": "markdown",
   "metadata": {
    "heading_collapsed": true
   },
   "source": [
    "## Q : Quelles sont les types de colonnes ?"
   ]
  },
  {
   "cell_type": "code",
   "execution_count": null,
   "metadata": {
    "hidden": true
   },
   "outputs": [],
   "source": [
    "df_date.dtypes"
   ]
  },
  {
   "cell_type": "markdown",
   "metadata": {
    "heading_collapsed": true
   },
   "source": [
    "## Convertir en type datetime ?"
   ]
  },
  {
   "cell_type": "markdown",
   "metadata": {
    "hidden": true
   },
   "source": [
    "Remarquez que la colonne \"Time\" dont le nom est maintenant \"time\" est de type \"object\". Ds cette dernière est stocké des dates (par ex, 1è obs : 6/1/1930 22:00) ce qui correspond au format (m/j/yyyy hh:mm).  \n",
    "**Q : Créer 1nouvelle var \"time1\" de type datetime (à partir de la var \"time\") ?** N'écraser pas la var initiale. La var \"time1\" doit être incluse ds le df.   \n",
    "Indice : pd.to_datetime"
   ]
  },
  {
   "cell_type": "code",
   "execution_count": null,
   "metadata": {
    "hidden": true
   },
   "outputs": [],
   "source": [
    "df.time1 = pd.to_datetime(df.time) #ça ne marche pas \n",
    "df_date['time1'] = pd.to_datetime(df_date.time)\n",
    "print(df, '\\n' df.dtypes)"
   ]
  },
  {
   "cell_type": "markdown",
   "metadata": {
    "hidden": true
   },
   "source": [
    "Le type \"datetime\" offre des possibilités étendues ! On peut par ex savoir que le \"6/1/1930 22:00\" correspond à un dimanche. Chose qui est compliquée à faire à partir du format initial (au prix de manip et calcul complexe).  \n",
    "**Q : Construisez cette nouvelle var (day_name)** ; incluse ds le df. Notez son type ?  \n",
    "Indice : df_date.dt..."
   ]
  },
  {
   "cell_type": "code",
   "execution_count": null,
   "metadata": {
    "hidden": true
   },
   "outputs": [],
   "source": [
    "df['day_name'] = df.time1.dt.weekday_name#1è façon\n",
    "df['day_name'] = df['time1'].dt.strftime('%A')#2è façon\n",
    "df.day_name.dtypes"
   ]
  },
  {
   "cell_type": "markdown",
   "metadata": {
    "hidden": true
   },
   "source": [
    "**Q : Construisez une nouvelle autre var qui indique le rang du jour par rapport à l'année (day_year) ?**  \n",
    "Par ex, \"6/1/1930 22:00\" est le 152è jour de l'année 1930.\n",
    "Notez le type de la var générée. Optimiser le !"
   ]
  },
  {
   "cell_type": "code",
   "execution_count": null,
   "metadata": {
    "hidden": true
   },
   "outputs": [],
   "source": [
    "df['day_year'] = df.time1.dt.dayofyear\n",
    "df.day_year.dtypes#int64\n",
    "df_date.day_year#(à convertir)"
   ]
  },
  {
   "cell_type": "markdown",
   "metadata": {
    "hidden": true
   },
   "source": [
    "**Q : On peut même extraire l'heure et la stocker ds 1nouvelle autre var \"hour\"**  \n",
    "Notez le type de la var générée. Optimiser le !"
   ]
  },
  {
   "cell_type": "code",
   "execution_count": null,
   "metadata": {
    "hidden": true,
    "scrolled": true
   },
   "outputs": [],
   "source": [
    "df['hour'] = df.time1.dt.hour"
   ]
  },
  {
   "cell_type": "markdown",
   "metadata": {
    "hidden": true
   },
   "source": [
    "**Successivement, extraire l'année \"year\", le mois \"month\", les minutes \"minutes\" ? **"
   ]
  },
  {
   "cell_type": "code",
   "execution_count": null,
   "metadata": {
    "hidden": true
   },
   "outputs": [],
   "source": []
  },
  {
   "cell_type": "markdown",
   "metadata": {
    "hidden": true
   },
   "source": [
    "**Supposons que vs n'avez ni la var initiale \"Time\" ni la var \"time1\", plutôt les vars fraîchement créees \"year\", \"month\",... **  \n",
    "A partir de ces dernières vars, créer la var \"time_gen\""
   ]
  },
  {
   "cell_type": "code",
   "execution_count": null,
   "metadata": {
    "hidden": true
   },
   "outputs": [],
   "source": []
  },
  {
   "cell_type": "markdown",
   "metadata": {
    "hidden": true
   },
   "source": [
    "**Q : Comment fonctionne tout cela ?**  Pr répondre à cette Q, répondez à la Q suivantes :  \n",
    "- Qu'est-ce que le timestamp ?  \n",
    "- Q : Convertir '1/1/1999' en timestamp (abrégé en ts) ?** "
   ]
  },
  {
   "cell_type": "code",
   "execution_count": 31,
   "metadata": {
    "hidden": true
   },
   "outputs": [],
   "source": [
    "import datetime\n",
    "ts = time.mktime(time.strptime('1/1/1999', \"%d/%m/%Y\"))\n",
    "# Vs convertissez ts en timestamp mais en réalité vs n'avez pas besoin ; Pandas s'en occupe ! \n",
    "pd.to_datetime('1/1/1999')\n",
    "ts = pd.to_datetime('1/1/1999')\n",
    "ts"
   ]
  },
  {
   "cell_type": "markdown",
   "metadata": {
    "hidden": true
   },
   "source": [
    "**Q : Extraire les observations supérieures ou égales à 1/1/1999** "
   ]
  },
  {
   "cell_type": "code",
   "execution_count": null,
   "metadata": {
    "hidden": true
   },
   "outputs": [],
   "source": [
    "df_date[df_date.time >= '1/1/1999']#Faux\n",
    "df_date.loc[df_date.time >= ts, : ]"
   ]
  },
  {
   "cell_type": "markdown",
   "metadata": {
    "hidden": true
   },
   "source": [
    "**Q : Trouvez la date la plus récente ?** "
   ]
  },
  {
   "cell_type": "code",
   "execution_count": null,
   "metadata": {
    "hidden": true
   },
   "outputs": [],
   "source": [
    "time_max = df_date.time.max()\n",
    "time_max"
   ]
  },
  {
   "cell_type": "markdown",
   "metadata": {
    "hidden": true
   },
   "source": [
    "**Q : Trouvez la date la moins récente ?** "
   ]
  },
  {
   "cell_type": "code",
   "execution_count": null,
   "metadata": {
    "hidden": true
   },
   "outputs": [],
   "source": [
    "time_min = df_date.time.min()\n",
    "time_min"
   ]
  },
  {
   "cell_type": "markdown",
   "metadata": {
    "hidden": true
   },
   "source": [
    "**Q : Calculer la durée résultante ?** Notez le type de la var 'duration'."
   ]
  },
  {
   "cell_type": "code",
   "execution_count": null,
   "metadata": {
    "hidden": true
   },
   "outputs": [],
   "source": [
    "duration = time_max - time_min\n",
    "duration"
   ]
  },
  {
   "cell_type": "markdown",
   "metadata": {
    "hidden": true
   },
   "source": [
    "**Q : Transformer ce dernier résultat en nbre de jours ?**"
   ]
  },
  {
   "cell_type": "code",
   "execution_count": null,
   "metadata": {
    "hidden": true
   },
   "outputs": [],
   "source": [
    "duration.days"
   ]
  },
  {
   "cell_type": "markdown",
   "metadata": {
    "hidden": true
   },
   "source": [
    "**Q : Tracer le graph de l'évolution de nbre de report par an** "
   ]
  },
  {
   "cell_type": "code",
   "execution_count": null,
   "metadata": {
    "hidden": true
   },
   "outputs": [],
   "source": [
    "date.year.hist()"
   ]
  },
  {
   "cell_type": "code",
   "execution_count": null,
   "metadata": {
    "hidden": true
   },
   "outputs": [],
   "source": [
    "%matplotlib inline\n",
    "annee_occ = annee.value_counts()\n",
    "import matplotlib.pyplot as plt\n",
    "plt.plot(annee_occ,\"g^\")\n",
    "plt.axis([1930, 2000, 1, 3000])\n",
    "plt.xlabel('année')\n",
    "plt.ylabel('nombre de report')\n",
    "plt.show()"
   ]
  },
  {
   "cell_type": "markdown",
   "metadata": {},
   "source": [
    "# Optionel mais recommandé "
   ]
  },
  {
   "cell_type": "markdown",
   "metadata": {},
   "source": [
    "Supposons que le format pd.datetime n'existe pas ! Pr avancer sur l'analyse (date la plus récente, moins récente, durée,...), essayons d'avoir recours aux astuces suivantes : "
   ]
  },
  {
   "cell_type": "markdown",
   "metadata": {},
   "source": [
    "## Q : Extraire l'heure, les minutes, l'année, le mois, le jour"
   ]
  },
  {
   "cell_type": "markdown",
   "metadata": {},
   "source": [
    "**Q : Essayons d'extraire l'heure ?** En d'autres termes, \"6/1/1930 22:00\" => 22 ; Indice : slice "
   ]
  },
  {
   "cell_type": "code",
   "execution_count": null,
   "metadata": {},
   "outputs": [],
   "source": [
    "df.Time.str.slice(-5, -3)"
   ]
  },
  {
   "cell_type": "markdown",
   "metadata": {},
   "source": [
    "**Q : Essayons d'extraire les minutes ?** En d'autres termes, \"6/1/1930 22:00\" => 00 "
   ]
  },
  {
   "cell_type": "code",
   "execution_count": null,
   "metadata": {},
   "outputs": [],
   "source": []
  },
  {
   "cell_type": "markdown",
   "metadata": {},
   "source": [
    "**Q : Essayons d'extraire l'année ?**  En d'autres termes, \"6/1/1930 22:00\" => 1930.  "
   ]
  },
  {
   "cell_type": "code",
   "execution_count": null,
   "metadata": {},
   "outputs": [],
   "source": [
    "#1è façon de le faire : \n",
    "for x in df_date.time[:]:\n",
    "    if (x[-10]=='/'):\n",
    "        print(x[-9:-5])\n",
    "    else:\n",
    "        print(x[-10:-6])"
   ]
  },
  {
   "cell_type": "code",
   "execution_count": null,
   "metadata": {},
   "outputs": [],
   "source": [
    "#2è façon de le faire (plus longue) : \n",
    "years = []\n",
    "\n",
    "for year in df_date.time[:]:\n",
    "    if '/' in year[3]:\n",
    "        years.append(year[4:8])\n",
    "    elif '/' in year[4]:\n",
    "        years.append(year[5:9])\n",
    "    elif '/' in year[5]:\n",
    "        years.append(year[6:10])\n",
    "    else :\n",
    "        years.append(year[7:11])\n",
    "        \n",
    "df_date['years'] = years"
   ]
  },
  {
   "cell_type": "markdown",
   "metadata": {},
   "source": [
    "**Q : Essayons d'extraire le mois ? En d'autres termes, \"6/1/1930 22:00\" => 1 (janvier)**  \n",
    "Rq : Ce n'est pas la même manip pr \"6/30/1930 20:00\" (2è obs)"
   ]
  },
  {
   "cell_type": "code",
   "execution_count": null,
   "metadata": {},
   "outputs": [],
   "source": []
  },
  {
   "cell_type": "markdown",
   "metadata": {},
   "source": [
    "**Q : Essayons d'extraire le jour ?** En d'autres termes, \"6/1/1930 22:00\" => 6 "
   ]
  },
  {
   "cell_type": "code",
   "execution_count": null,
   "metadata": {},
   "outputs": [],
   "source": []
  },
  {
   "cell_type": "markdown",
   "metadata": {},
   "source": [
    "**Q : Construisez 1nouvelle var \"year2\" où vs stockerez les années \"slicées\"** (de même pr mois : \"month2\", jour : \"day2\", heure : \"hour2\", minute : \"minutes2\")"
   ]
  },
  {
   "cell_type": "code",
   "execution_count": null,
   "metadata": {},
   "outputs": [],
   "source": []
  },
  {
   "cell_type": "markdown",
   "metadata": {},
   "source": [
    "## Comparer la col construite manuellement et la col en datetime  "
   ]
  },
  {
   "cell_type": "markdown",
   "metadata": {},
   "source": [
    "**L'idée est de comparer les deux résultats (à l'aide pd.to_datetime et la méthode manuelle). Si vs êtes bon, vs devez avoir les mêmes réultats : **"
   ]
  },
  {
   "cell_type": "markdown",
   "metadata": {},
   "source": [
    "## Date la plus récente  "
   ]
  },
  {
   "cell_type": "markdown",
   "metadata": {},
   "source": [
    "**Q : Triez les données ds un ordre chronologique croissant (et inversement) en se basant sur les vars year2, month2, day2, hour2, minutes2.   \n",
    "Q : Quelle est la date la plus récente (moins récente) ?**"
   ]
  },
  {
   "cell_type": "code",
   "execution_count": null,
   "metadata": {},
   "outputs": [],
   "source": []
  },
  {
   "cell_type": "markdown",
   "metadata": {},
   "source": [
    "## Delta time"
   ]
  },
  {
   "cell_type": "markdown",
   "metadata": {},
   "source": [
    "**Q : Calculer la durée couverte par les observations ?**  "
   ]
  },
  {
   "cell_type": "code",
   "execution_count": null,
   "metadata": {},
   "outputs": [],
   "source": []
  }
 ],
 "metadata": {
  "hide_input": false,
  "kernelspec": {
   "display_name": "Python 3",
   "language": "python",
   "name": "python3"
  },
  "language_info": {
   "codemirror_mode": {
    "name": "ipython",
    "version": 3
   },
   "file_extension": ".py",
   "mimetype": "text/x-python",
   "name": "python",
   "nbconvert_exporter": "python",
   "pygments_lexer": "ipython3",
   "version": "3.7.6"
  },
  "nbTranslate": {
   "displayLangs": [
    "*"
   ],
   "hotkey": "alt-t",
   "langInMainMenu": true,
   "sourceLang": "en",
   "targetLang": "fr",
   "useGoogleTranslate": true
  },
  "toc": {
   "nav_menu": {},
   "number_sections": true,
   "sideBar": true,
   "skip_h1_title": false,
   "title_cell": "Table of Contents",
   "title_sidebar": "Contents",
   "toc_cell": true,
   "toc_position": {
    "height": "calc(100% - 180px)",
    "left": "10px",
    "top": "150px",
    "width": "165px"
   },
   "toc_section_display": true,
   "toc_window_display": false
  },
  "varInspector": {
   "cols": {
    "lenName": 16,
    "lenType": 16,
    "lenVar": 40
   },
   "kernels_config": {
    "python": {
     "delete_cmd_postfix": "",
     "delete_cmd_prefix": "del ",
     "library": "var_list.py",
     "varRefreshCmd": "print(var_dic_list())"
    },
    "r": {
     "delete_cmd_postfix": ") ",
     "delete_cmd_prefix": "rm(",
     "library": "var_list.r",
     "varRefreshCmd": "cat(var_dic_list()) "
    }
   },
   "types_to_exclude": [
    "module",
    "function",
    "builtin_function_or_method",
    "instance",
    "_Feature"
   ],
   "window_display": false
  }
 },
 "nbformat": 4,
 "nbformat_minor": 2
}

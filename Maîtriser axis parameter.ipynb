{
 "cells": [
  {
   "cell_type": "markdown",
   "metadata": {},
   "source": [
    "# Maîtriser l'utilisation du paramètre \"axis\" dans Pandas"
   ]
  },
  {
   "cell_type": "markdown",
   "metadata": {},
   "source": [
    "**Q : Read the \"Maîtriser axis.csv\" into a DataFrame?**"
   ]
  },
  {
   "cell_type": "code",
   "execution_count": null,
   "metadata": {},
   "outputs": [],
   "source": []
  },
  {
   "cell_type": "markdown",
   "metadata": {},
   "source": [
    "**Q : Drop the column \"continent\"? **\n",
    "Tips : use drop method with the parameter axis."
   ]
  },
  {
   "cell_type": "code",
   "execution_count": null,
   "metadata": {},
   "outputs": [],
   "source": []
  },
  {
   "cell_type": "markdown",
   "metadata": {},
   "source": [
    "**Q : Drop the 2sd ligne?  **\n",
    "Tips : use always drop method with the parameter axis."
   ]
  },
  {
   "cell_type": "code",
   "execution_count": null,
   "metadata": {},
   "outputs": [],
   "source": []
  },
  {
   "cell_type": "markdown",
   "metadata": {},
   "source": [
    "**Q : Calculate the mean of each numeric column (of each row)? (by specification of 'index' or 'columns' arguments)?**  \n",
    "Que constatez-vous (par rapport à la méthode drop) ?  \n",
    "A approfondir pr comprendre prkoi le comportement est inversé par rapport à drop !  \n",
    "A approfondir c quoi les n dim ds la méthode mean()"
   ]
  },
  {
   "cell_type": "code",
   "execution_count": null,
   "metadata": {},
   "outputs": [],
   "source": [
    "#df.mean(axis = 0) == df.mean(axis = 'index') => C pr les col !\n",
    "#df.mean(axis = 1) == df.mean(axis = 'columns') => C pr les lignes !\n",
    "#Alorq c l'inverse pr la méthode drop()\n",
    "#C normal parcq l'index est l'axe0 alorq les noms des vars = axe1\n",
    "#Du coup, tu demande à Python de faire la moy en suivant la direction de l'axe 0 (l'index).  "
   ]
  },
  {
   "cell_type": "markdown",
   "metadata": {},
   "source": [
    "** Notez que ce mécanisme marche est le même pr le min(), l'E.T,...**"
   ]
  }
 ],
 "metadata": {
  "kernelspec": {
   "display_name": "Python 3",
   "language": "python",
   "name": "python3"
  },
  "language_info": {
   "codemirror_mode": {
    "name": "ipython",
    "version": 3
   },
   "file_extension": ".py",
   "mimetype": "text/x-python",
   "name": "python",
   "nbconvert_exporter": "python",
   "pygments_lexer": "ipython3",
   "version": "3.7.6"
  },
  "varInspector": {
   "cols": {
    "lenName": 16,
    "lenType": 16,
    "lenVar": 40
   },
   "kernels_config": {
    "python": {
     "delete_cmd_postfix": "",
     "delete_cmd_prefix": "del ",
     "library": "var_list.py",
     "varRefreshCmd": "print(var_dic_list())"
    },
    "r": {
     "delete_cmd_postfix": ") ",
     "delete_cmd_prefix": "rm(",
     "library": "var_list.r",
     "varRefreshCmd": "cat(var_dic_list()) "
    }
   },
   "types_to_exclude": [
    "module",
    "function",
    "builtin_function_or_method",
    "instance",
    "_Feature"
   ],
   "window_display": false
  }
 },
 "nbformat": 4,
 "nbformat_minor": 2
}

{
 "cells": [
  {
   "cell_type": "markdown",
   "metadata": {},
   "source": [
    "**Ressources à consulter** :   \n",
    "https://machinelearningmastery.com/handle-missing-data-python/  \n",
    "https://www.tutorialspoint.com/python_pandas/python_pandas_missing_data.htm  \n",
    "http://www.residentmar.io/2016/06/12/null-and-missing-data-python.html  \n",
    "https://dzone.com/articles/pandas-find-rows-where-columnfield-is-null  \n",
    "https://pandas.pydata.org/pandas-docs/stable/missing_data.html#when-why-does-data-become-missing  \n",
    "https://pandas.pydata.org/pandas-docs/stable/cookbook.html#cookbook-missing-data"
   ]
  },
  {
   "cell_type": "markdown",
   "metadata": {},
   "source": [
    "- ** Créer 1 valeur manq : NaN (Not a Number) et tester son type = float ? **"
   ]
  },
  {
   "cell_type": "code",
   "execution_count": null,
   "metadata": {},
   "outputs": [],
   "source": [
    "v_miss = np.nan\n",
    "print(v_miss, type(v_miss))"
   ]
  },
  {
   "cell_type": "markdown",
   "metadata": {},
   "source": [
    "- ** Créer 1 df avec qq obs manq ? ** "
   ]
  },
  {
   "cell_type": "code",
   "execution_count": 89,
   "metadata": {},
   "outputs": [
    {
     "data": {
      "text/html": [
       "<div>\n",
       "<style scoped>\n",
       "    .dataframe tbody tr th:only-of-type {\n",
       "        vertical-align: middle;\n",
       "    }\n",
       "\n",
       "    .dataframe tbody tr th {\n",
       "        vertical-align: top;\n",
       "    }\n",
       "\n",
       "    .dataframe thead th {\n",
       "        text-align: right;\n",
       "    }\n",
       "</style>\n",
       "<table border=\"1\" class=\"dataframe\">\n",
       "  <thead>\n",
       "    <tr style=\"text-align: right;\">\n",
       "      <th></th>\n",
       "      <th>z00_first_name</th>\n",
       "      <th>z01_last_name</th>\n",
       "      <th>z02_age</th>\n",
       "      <th>z03_sex</th>\n",
       "      <th>z04_pre_test_score</th>\n",
       "      <th>z05_post_test_score</th>\n",
       "    </tr>\n",
       "  </thead>\n",
       "  <tbody>\n",
       "    <tr>\n",
       "      <th>0</th>\n",
       "      <td>Jason</td>\n",
       "      <td>Miller</td>\n",
       "      <td>42.0</td>\n",
       "      <td>m</td>\n",
       "      <td>4.0</td>\n",
       "      <td>25.0</td>\n",
       "    </tr>\n",
       "    <tr>\n",
       "      <th>1</th>\n",
       "      <td>NaN</td>\n",
       "      <td>NaN</td>\n",
       "      <td>NaN</td>\n",
       "      <td>NaN</td>\n",
       "      <td>NaN</td>\n",
       "      <td>NaN</td>\n",
       "    </tr>\n",
       "    <tr>\n",
       "      <th>2</th>\n",
       "      <td>Tina</td>\n",
       "      <td>Ali</td>\n",
       "      <td>36.0</td>\n",
       "      <td>f</td>\n",
       "      <td>NaN</td>\n",
       "      <td>NaN</td>\n",
       "    </tr>\n",
       "    <tr>\n",
       "      <th>3</th>\n",
       "      <td>Jake</td>\n",
       "      <td>Milner</td>\n",
       "      <td>24.0</td>\n",
       "      <td>m</td>\n",
       "      <td>2.0</td>\n",
       "      <td>62.0</td>\n",
       "    </tr>\n",
       "    <tr>\n",
       "      <th>4</th>\n",
       "      <td>Amy</td>\n",
       "      <td>Cooze</td>\n",
       "      <td>73.0</td>\n",
       "      <td>f</td>\n",
       "      <td>3.0</td>\n",
       "      <td>70.0</td>\n",
       "    </tr>\n",
       "  </tbody>\n",
       "</table>\n",
       "</div>"
      ],
      "text/plain": [
       "  z00_first_name z01_last_name  z02_age z03_sex  z04_pre_test_score  \\\n",
       "0          Jason        Miller     42.0       m                 4.0   \n",
       "1            NaN           NaN      NaN     NaN                 NaN   \n",
       "2           Tina           Ali     36.0       f                 NaN   \n",
       "3           Jake        Milner     24.0       m                 2.0   \n",
       "4            Amy         Cooze     73.0       f                 3.0   \n",
       "\n",
       "   z05_post_test_score  \n",
       "0                 25.0  \n",
       "1                  NaN  \n",
       "2                  NaN  \n",
       "3                 62.0  \n",
       "4                 70.0  "
      ]
     },
     "execution_count": 89,
     "metadata": {},
     "output_type": "execute_result"
    }
   ],
   "source": [
    "import numpy as np\n",
    "dico = {'z00_first_name': ['Jason', np.nan, 'Tina', 'Jake', 'Amy'], \n",
    "        'z01_last_name': ['Miller', np.nan, 'Ali', 'Milner', 'Cooze'], \n",
    "        'z02_age': [42, np.nan, 36, 24, 73], \n",
    "        'z03_sex': ['m', np.nan, 'f', 'm', 'f'], \n",
    "        'z04_pre_test_score': [4, np.nan, np.nan, 2, 3],\n",
    "        'z05_post_test_score': [25, np.nan, np.nan, 62, 70]}\n",
    "df_dico = pd.DataFrame(data = dico, columns = dico.keys())\n",
    "df_dico"
   ]
  },
  {
   "cell_type": "markdown",
   "metadata": {},
   "source": [
    "- ** Rajouter 1col dont ttes les obs sont manq ? **"
   ]
  },
  {
   "cell_type": "code",
   "execution_count": null,
   "metadata": {},
   "outputs": [],
   "source": [
    "df['location'] = np.nan\n",
    "df"
   ]
  },
  {
   "cell_type": "markdown",
   "metadata": {},
   "source": [
    "**Q : Lire le fichier Missing.csv et renommer les vars comme convenue : z00_city, z01_colors_reported,... (tjrs à l'aide des fonc génériques mis au point et stocké ds le script startup.py) ?**"
   ]
  },
  {
   "cell_type": "code",
   "execution_count": null,
   "metadata": {},
   "outputs": [],
   "source": [
    "df = pd.read_table('Missing.csv', sep = ',')\n",
    "df.head()"
   ]
  },
  {
   "cell_type": "markdown",
   "metadata": {},
   "source": [
    "## Traiter les questions suivantes sans affecter les résultats au df (inplace = False)  "
   ]
  },
  {
   "cell_type": "markdown",
   "metadata": {},
   "source": [
    "**Q : Y'a-t-il combien de valeurs manquantes ds chaque col du df (et inversement de valeurs non manquantes) ?**  \n",
    "**Q : Triez le résultat ds 1ordre décroissant ?**  \n",
    "**Q : Existe-t-il des cols dont ttes les valeurs sont manq ? Les supp ? **  \n",
    "**Q : La col 'z02_shape_reported' comporte-t-elle des données non renseignées ? Faire 1tri à plat sur cette col (en indiquant dropna = True (resp. False)) ? \n",
    "**Q : Supp les cols qui comportent au moins 1valeur manquante ?**  "
   ]
  },
  {
   "cell_type": "code",
   "execution_count": null,
   "metadata": {},
   "outputs": [],
   "source": [
    "#df.info() # Fausse bonne commande\n",
    "#type(df.info())#pas de type, donc pas d'exploitation de résultat\n",
    "#df.isna(), type(df.isna()) # ça retourne 1DF\n",
    "#df.isnull(), type(df.isnull()) # ça retourne 1DF\n",
    "#df.notna(), type(df.notna()) # ça retourne 1DF\n",
    "#df.notnull() # ça retourne 1DF\n",
    "#Compter le nbre de valeurs manquntes\n",
    "#df.isna().sum().sort_values(ascending = False)\n",
    "#df.isnull().sum().sort_values(ascending = False)\n",
    "#Tu supp les cols dont ttes les obs sont manqs \n",
    "#print('shape_av = ', df.shape, 'shape_après = ', df.dropna(how = 'all', axis = 1).shape)\n",
    "#df.isnull(how = 'all').shape # ça ne marche pas ! isnull() ne prends pas d'options \n",
    "#df['Shape Reported'].isna().sum()\n",
    "#df['Shape Reported'].value_counts().head()\n",
    "#df['Shape Reported'].value_counts(dropna = False).head()\n",
    "#Tu supp les col dont au moins 1val manq existe \n",
    "#df1 = df.dropna(axis = 1, how = 'any')#Att : tu risque d'avoir d'avoir 1df avec 0 cols\n",
    "#df1"
   ]
  },
  {
   "cell_type": "markdown",
   "metadata": {},
   "source": [
    "**Q : Y'a-t-il combien de valeurs manquantes ds chaque ligne du df (et inversement de valeurs non manquantes) ?**  \n",
    "**Q : Triez le résultat ds 1ordre décroissant ?**  \n",
    "**Q : Existe-t-il des lignes dont ttes les valeurs sont manq ? Les supp ?**     \n",
    "**Q : Supp les lignes qui comportent au moins 1valeur manquante ?**  \n",
    "**Q : Calculer (nb_ligne_après/nb_ligne_av) * 100 : La proportion des lignes résultante (df_no_missing) ?**  \n",
    "**Q : Supp les lignes où les cols 'z00_city' et 'zà 1_shape_reported' ont en même temps des données manq ?**  \n",
    "**Q : Supp les lignes où soit la col 'City' ou soit la col 'Shape Reported' ont des données manq?**  \n",
    "**Q : Garder les lignes qui comptent moins de 3obs non manquantes ?**  "
   ]
  },
  {
   "cell_type": "code",
   "execution_count": null,
   "metadata": {},
   "outputs": [],
   "source": [
    "#sum(axis = 1) : Tu fais la somme sur les lignes (revoir la notion d'axis)\n",
    "#df.isnull().sum(axis = 1).sort_values(ascending = False)\n",
    "#df.isna().sum(axis = 1).sort_values(ascending = False)\n",
    "#df.notna().sum(axis = 1).sort_values(ascending = False)\n",
    "\n",
    "#Tu supp les lignes dont ttes les obs sont manqs à la fois \n",
    "#df.shape, df.dropna(how = 'all').shape\n",
    "#Tu supp les lignes dont au moins 1val manq existe \n",
    "#df.shape, df.dropna(axis = 0, how = 'any').shape #Att : tu risque d'avoir d'avoir 1df avec 0 lignes ! \n",
    "#print(\"- Le nbre de lignes de df a été réduit à {}%\".format(round(df.dropna(how = 'any').shape[0] / df.shape[0]), 2))\n",
    "\n",
    "#df.dropna(subset=['City', 'Shape Reported'], how='all').shape\n",
    "#df.dropna(subset=['City', 'Shape Reported'], how='any').shape\n",
    "\n",
    "#df.shape, df.dropna(thresh = 3).shape # Tu supp les lignes qui ont moins de 3obs (non manq) ! \n",
    "#df.notna().sum(axis = 1).sort_values(ascending = False)\n",
    "#(df.notna().sum(axis = 1).sort_values(ascending = False) >= 3).sum()"
   ]
  },
  {
   "cell_type": "markdown",
   "metadata": {},
   "source": [
    "**Q : Remplir les données manq de la col 'z02_shape_reported' avec la valeur 'VARIOUS' ?**\n",
    "**Q : Remplir les données manq de la col 'z04_pre_test_score' du df_dico en indiquant la moyenne prise par cette col?**  \n",
    "**Q : Remplir les données manq de la col 'z05_post_test_score' du df_dico en indiquant la moyenne prise par cette var selon le sexe?**"
   ]
  },
  {
   "cell_type": "code",
   "execution_count": 95,
   "metadata": {},
   "outputs": [
    {
     "data": {
      "text/plain": [
       "0    43.5\n",
       "1     NaN\n",
       "2    70.0\n",
       "3    43.5\n",
       "4    70.0\n",
       "Name: z05_post_test_score, dtype: float64"
      ]
     },
     "execution_count": 95,
     "metadata": {},
     "output_type": "execute_result"
    }
   ],
   "source": [
    "#df['Shape Reported'].fillna(value='VARIOUS', inplace = True)\n",
    "#df['Shape Reported'].value_counts(dropna = False)\n",
    "#df_dico.z04_pre_test_score.mean(skipna = True)\n",
    "#df_dico.z04_pre_test_score.fillna(df_dico.z04_pre_test_score.mean(), inplace = True)\n",
    "#df_dico\n",
    "df_dico.groupby('z03_sex')['z05_post_test_score'].transform('mean').head()\n",
    "#df_dico.z05_post_test_score.mean(skipna=True)\n",
    "#df_dico.groupby('z03_sex')[\"postTestScore\"].transform(\"mean\")\n",
    "#df_dico.z05_post_test_score.fillna(df_dico.groupby(\"sex\")[\"postTestScore\"].transform(\"mean\"), inplace=True)\n",
    "#df"
   ]
  },
  {
   "cell_type": "markdown",
   "metadata": {},
   "source": [
    "**Q : En réalité le df comporte des lignes dont ttes les obs sont manq ! Revenez sur la fonc read_csv() et trouver l'option 'coupable' de ce comportement : *exclure les lignes vides lors de la transformation d'un fichier en df.* **  \n",
    "**Q : Relire le fichier avec l'option en question en la mettant à False (pr le vérifier). A votre avis, pourquoi cette option est par défaut à True ? Existe-t-il son équivalent pr les colonnes vides ?  **  \n",
    "**Q : D'une façon générale, lors d'un read_table() vaut-t-il mieux supp les lignes ou les cols dont ttes les obs sont manq (ou les deux à la fois) ?** "
   ]
  },
  {
   "cell_type": "code",
   "execution_count": null,
   "metadata": {},
   "outputs": [],
   "source": [
    "pd.read_table('Missing.csv', sep = ',', skip_blank_lines = False)"
   ]
  },
  {
   "cell_type": "markdown",
   "metadata": {},
   "source": [
    "**Q :  C'est quoi la diff entre is.null() et is.na() (diff entre not.null et not.na) ; les options 'any' et 'all' ? Quelle commande préferer au final ?**"
   ]
  },
  {
   "cell_type": "code",
   "execution_count": null,
   "metadata": {},
   "outputs": [],
   "source": [
    "#df = my_read_table('Dummies.csv', sep = ',')#1%\n",
    "#df = my_read_table('Maitriser Axis.csv', sep = ',') #1%\n",
    "#df = pd.read_table('sante.txt', sep = None, engine = 'python') #1%\n",
    "#df = pd.read_table('titanic_train.csv', sep = ',') #0%\n",
    "#df = pd.read_table('game_logs.csv', sep = ',') #0%\n",
    "#df = pd.read_table('df_tsv_simple.tsv')#1%\n",
    "#df = pd.read_table('df_csv_simple.csv')#1%\n",
    "df = pd.read_table('Manip Datetime.csv', sep = ',')#1%\n",
    "df\n",
    "print(\"- Le nbre de lignes de df a été réduit à {}%\".format(round(df.dropna(how = 'any').shape[0] / df.shape[0]), 2))\n"
   ]
  },
  {
   "cell_type": "code",
   "execution_count": null,
   "metadata": {},
   "outputs": [],
   "source": [
    "df.columns"
   ]
  },
  {
   "cell_type": "code",
   "execution_count": null,
   "metadata": {},
   "outputs": [],
   "source": [
    "print(\"- Le nbre de lignes de df a été réduit à {}%\".format(round(df.dropna(axis = 0, how = 'any').shape[0] / df.shape[0]), 2))"
   ]
  },
  {
   "cell_type": "markdown",
   "metadata": {},
   "source": [
    "##  La notion de cylindrer 1df"
   ]
  },
  {
   "cell_type": "markdown",
   "metadata": {},
   "source": [
    "- Cylindrer 1df consiste à retourner 1df sans données manquantes (att, à ne pas avoir comme résultat 1df avec 0 ligne ou 0 col). \n",
    "- Si ns ns trouvons ds ce dernière situation, une opération de remplissage des données manquantes s'impose pour laquelle n'existe pas une solution universelle (tt dépends du contexte, du secteur d'activité, des données elles-mêmes,...). "
   ]
  },
  {
   "cell_type": "markdown",
   "metadata": {},
   "source": [
    "**Obj Final : construire 1fonc qui, lors du chargement d'1df, permet de savoir : **  \n",
    "\n",
    "- Si le df comporte des données manq ou non ? \n",
    "    - Si non --> print(\"df without any missing values, plz continue your work on the df with other question like data viz !\")\n",
    "    - Si oui,  \n",
    "        - Est-ce qu'il existe des cols dont ttes les obs sont missing (en même temps) ?\n",
    "            - Identifier ces cols (leur nbre et leur nom) ?\n",
    "                - Eventuellement les supprimer (car valeur informative nulle) ?\n",
    "        - Est-ce qu'il existe des lignes dont ttes les obs sont vides (à la fois) ? \n",
    "            - Identifier ces lignes (leur nbre) ?\n",
    "                - Eventuellement les supprimer ou (non) ?\n",
    "        - else (càd ds le df n'existe ni cols ni lignes vides (mais il comporte des données manq)) : \n",
    "            - Dois-je supp les lignes qui comporte au moins 1valeur manq : \n",
    "                - Le df qui résulte reste-il exploitable ? \n",
    "                - Print('Tx de perte' = ((nb_ligne_apr - nb_ligne_av) / nb_ligne_av) * 100 )\n",
    "            - Dois-je supp les cols qui comporte au moins 1valeur manq\n",
    "                - Dois-je cylindrer le df ?\n",
    "\n",
    "- Se poser la question : prkoi ces cols sont vides ? \n",
    "\n",
    "//* Ceci est un pseudo-code (de l'algorithmie) qui vs aidera à construire votre fonc (ce qui n'empêchera pas de faire à votre façon, soyez curieux et inventif) * //\n",
    "\n",
    "**Q : Calculer (nb_ligne_après/nb_ligne_après) * 100 : La proportion des lignes résultante (df_no_missing) ?**  "
   ]
  },
  {
   "cell_type": "markdown",
   "metadata": {},
   "source": [
    "**Q : Rajouter cmnt utiliser la moyenne lorsq des NA existe ?**"
   ]
  },
  {
   "cell_type": "code",
   "execution_count": null,
   "metadata": {},
   "outputs": [],
   "source": [
    "df = pd.DataFrame([[np.nan, 2, np.nan], [3, 4, np.nan],\n",
    "...                    [np.nan, np.nan, np.nan]],\n",
    "...                   columns=['A', 'B', 'C'])\n",
    "df.head()"
   ]
  },
  {
   "cell_type": "code",
   "execution_count": null,
   "metadata": {},
   "outputs": [],
   "source": [
    "# This is the best and faster option to check if any value is NaN in df  \n",
    "%timeit df.isnull().values.any()"
   ]
  },
  {
   "cell_type": "code",
   "execution_count": null,
   "metadata": {},
   "outputs": [],
   "source": [
    "%timeit df.dropna(axis=1, how='all')"
   ]
  },
  {
   "cell_type": "code",
   "execution_count": null,
   "metadata": {},
   "outputs": [],
   "source": [
    "%timeit df.dropna(axis=0, how='all')"
   ]
  }
 ],
 "metadata": {
  "kernelspec": {
   "display_name": "Python 3",
   "language": "python",
   "name": "python3"
  },
  "language_info": {
   "codemirror_mode": {
    "name": "ipython",
    "version": 3
   },
   "file_extension": ".py",
   "mimetype": "text/x-python",
   "name": "python",
   "nbconvert_exporter": "python",
   "pygments_lexer": "ipython3",
   "version": "3.7.6"
  },
  "varInspector": {
   "cols": {
    "lenName": 16,
    "lenType": 16,
    "lenVar": 40
   },
   "kernels_config": {
    "python": {
     "delete_cmd_postfix": "",
     "delete_cmd_prefix": "del ",
     "library": "var_list.py",
     "varRefreshCmd": "print(var_dic_list())"
    },
    "r": {
     "delete_cmd_postfix": ") ",
     "delete_cmd_prefix": "rm(",
     "library": "var_list.r",
     "varRefreshCmd": "cat(var_dic_list()) "
    }
   },
   "types_to_exclude": [
    "module",
    "function",
    "builtin_function_or_method",
    "instance",
    "_Feature"
   ],
   "window_display": false
  }
 },
 "nbformat": 4,
 "nbformat_minor": 2
}
